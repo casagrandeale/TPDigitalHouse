{
 "cells": [
  {
   "cell_type": "code",
   "execution_count": 1,
   "id": "ae2fe0c3",
   "metadata": {},
   "outputs": [],
   "source": [
    "import numpy as np\n",
    "import pandas as pd\n",
    "import matplotlib.pyplot as plt\n",
    "%matplotlib inline\n",
    "import seaborn as sns\n",
    "from sklearn.linear_model import LinearRegression\n",
    "\n",
    "data = pd.read_csv('data/dataset_turnos.csv')"
   ]
  },
  {
   "cell_type": "code",
   "execution_count": 2,
   "id": "6bd530c0",
   "metadata": {},
   "outputs": [],
   "source": [
    "x_columnas = ['endofmonth','emailvalid','DayName','priordayholiday','nextdayholiday','day','hour','age','daysbeforereserved','outofschedule','firsttime','speciality','gender','citypatient','healthcoverage','buildingcity']\n",
    "y_columnas = ['appointmentstate']\n",
    "data_modelo =  pd.concat([data[y_columnas],data[x_columnas]], axis = 1)"
   ]
  },
  {
   "cell_type": "code",
   "execution_count": 3,
   "id": "0f12fc12",
   "metadata": {},
   "outputs": [],
   "source": [
    "data_dummies=pd.get_dummies(data_modelo[['DayName','speciality','gender','healthcoverage']], drop_first = True)"
   ]
  },
  {
   "cell_type": "code",
   "execution_count": 4,
   "id": "cc19e735",
   "metadata": {},
   "outputs": [],
   "source": [
    "data_modelo = pd.concat([data[['endofmonth','day','hour','emailvalid','appointmentstate','priordayholiday','nextdayholiday','age','daysbeforereserved','outofschedule','firsttime']],data_dummies], axis = 1)\n",
    "data_modelo = data_modelo.reset_index(drop=True)"
   ]
  },
  {
   "cell_type": "code",
   "execution_count": 5,
   "id": "c0678b6c",
   "metadata": {},
   "outputs": [],
   "source": [
    "X=data_modelo.drop(['appointmentstate'],axis=1)\n",
    "\n",
    "y = data_modelo[y_columnas].squeeze()"
   ]
  },
  {
   "cell_type": "code",
   "execution_count": 6,
   "id": "514dbab9",
   "metadata": {},
   "outputs": [],
   "source": [
    "from sklearn.model_selection import train_test_split\n",
    "\n",
    "X_train, X_test, y_train, y_test = train_test_split(X, y, stratify=y, random_state = 0)"
   ]
  },
  {
   "cell_type": "code",
   "execution_count": 7,
   "id": "f5f75f6b",
   "metadata": {},
   "outputs": [],
   "source": [
    "from sklearn.preprocessing import StandardScaler\n",
    "\n",
    "scaler = StandardScaler()\n",
    "X_train_std = scaler.fit_transform(X_train)\n",
    "X_test_std = scaler.transform(X_test)"
   ]
  },
  {
   "cell_type": "code",
   "execution_count": 8,
   "id": "4545a33d",
   "metadata": {},
   "outputs": [
    {
     "data": {
      "text/plain": [
       "KNeighborsClassifier()"
      ]
     },
     "execution_count": 8,
     "metadata": {},
     "output_type": "execute_result"
    }
   ],
   "source": [
    "from sklearn.neighbors import KNeighborsClassifier\n",
    "\n",
    "knn = KNeighborsClassifier(n_neighbors=5)\n",
    "knn.fit(X_train_std, y_train)"
   ]
  },
  {
   "cell_type": "code",
   "execution_count": 9,
   "id": "ab0c6ac9",
   "metadata": {},
   "outputs": [
    {
     "data": {
      "text/plain": [
       "0.7930365333418866"
      ]
     },
     "execution_count": 9,
     "metadata": {},
     "output_type": "execute_result"
    }
   ],
   "source": [
    "from sklearn.metrics import accuracy_score, confusion_matrix, classification_report\n",
    "\n",
    "accuracy_score(y_train, knn.predict(X_train_std))"
   ]
  },
  {
   "cell_type": "code",
   "execution_count": 10,
   "id": "2c1f9afd",
   "metadata": {},
   "outputs": [
    {
     "data": {
      "text/plain": [
       "Text(33.0, 0.5, 'Reales')"
      ]
     },
     "execution_count": 10,
     "metadata": {},
     "output_type": "execute_result"
    },
    {
     "data": {
      "image/png": "[encoded data removed]",
      "text/plain": [
       "<Figure size 432x288 with 2 Axes>"
      ]
     },
     "metadata": {
      "needs_background": "light"
     },
     "output_type": "display_data"
    }
   ],
   "source": [
    "sns.heatmap(confusion_matrix(y_train, knn.predict(X_train_std)), annot=True, fmt='4d')\n",
    "plt.xlabel('Predichos')\n",
    "plt.ylabel('Reales')"
   ]
  },
  {
   "cell_type": "code",
   "execution_count": null,
   "id": "010f9dc9",
   "metadata": {},
   "outputs": [],
   "source": []
  }
 ],
 "metadata": {
  "kernelspec": {
   "display_name": "Python [conda env:dhdsblend2021] *",
   "language": "python",
   "name": "conda-env-dhdsblend2021-py"
  },
  "language_info": {
   "codemirror_mode": {
    "name": "ipython",
    "version": 3
   },
   "file_extension": ".py",
   "mimetype": "text/x-python",
   "name": "python",
   "nbconvert_exporter": "python",
   "pygments_lexer": "ipython3",
   "version": "3.8.13"
  }
 },
 "nbformat": 4,
 "nbformat_minor": 5
}
