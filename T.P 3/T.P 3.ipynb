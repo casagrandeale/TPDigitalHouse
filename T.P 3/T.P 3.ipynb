{
 "cells": [
  {
   "cell_type": "code",
   "execution_count": 1,
   "id": "903c3485",
   "metadata": {},
   "outputs": [],
   "source": [
    "import pandas as pd\n",
    "import numpy as np"
   ]
  },
  {
   "cell_type": "code",
   "execution_count": 3,
   "id": "c5bf1177",
   "metadata": {},
   "outputs": [],
   "source": [
    "data = pd.read_csv(\".\\data.csv\", sep = \",\")"
   ]
  },
  {
   "cell_type": "code",
   "execution_count": 11,
   "id": "48a52184",
   "metadata": {},
   "outputs": [],
   "source": [
    "data = data[data.speciality == \"Pediatría\"]"
   ]
  },
  {
   "cell_type": "code",
   "execution_count": 18,
   "id": "32064328",
   "metadata": {
    "scrolled": false
   },
   "outputs": [],
   "source": [
    "def verNulos(dataset):\n",
    "    return dataset.apply(lambda x: x.isnull().sum())"
   ]
  },
  {
   "cell_type": "code",
   "execution_count": 19,
   "id": "ea339482",
   "metadata": {
    "scrolled": true
   },
   "outputs": [
    {
     "data": {
      "text/plain": [
       "appointmentfromtime       0\n",
       "priordayholiday           0\n",
       "prior2daysholiday         0\n",
       "nextdayholiday            0\n",
       "next2daysholiday          0\n",
       "day                       0\n",
       "hour                      0\n",
       "outofschedule             0\n",
       "appointmentstate          0\n",
       "age                      63\n",
       "daysbeforereserved        0\n",
       "speciality                0\n",
       "patientaddress         9489\n",
       "citypatient               0\n",
       "buildingaddress           0\n",
       "healthcoverage          336\n",
       "buildingcity              0\n",
       "dtype: int64"
      ]
     },
     "execution_count": 19,
     "metadata": {},
     "output_type": "execute_result"
    }
   ],
   "source": [
    "verNulos(data)"
   ]
  },
  {
   "cell_type": "code",
   "execution_count": 23,
   "id": "c108a721",
   "metadata": {
    "scrolled": false
   },
   "outputs": [
    {
     "name": "stderr",
     "output_type": "stream",
     "text": [
      "C:\\Users\\alesu\\AppData\\Local\\Temp\\ipykernel_3008\\1311533341.py:1: SettingWithCopyWarning: \n",
      "A value is trying to be set on a copy of a slice from a DataFrame\n",
      "\n",
      "See the caveats in the documentation: https://pandas.pydata.org/pandas-docs/stable/user_guide/indexing.html#returning-a-view-versus-a-copy\n",
      "  data.dropna(subset = [\"patientaddress\"], inplace = True)\n"
     ]
    }
   ],
   "source": [
    "data.dropna(subset = [\"patientaddress\"], inplace = True)"
   ]
  },
  {
   "cell_type": "code",
   "execution_count": 36,
   "id": "cfaef5ee",
   "metadata": {
    "scrolled": true
   },
   "outputs": [
    {
     "name": "stderr",
     "output_type": "stream",
     "text": [
      "E:\\Programas\\anaconda3\\envs\\dhdsblend2021\\lib\\site-packages\\pandas\\core\\generic.py:5170: SettingWithCopyWarning: \n",
      "A value is trying to be set on a copy of a slice from a DataFrame.\n",
      "Try using .loc[row_indexer,col_indexer] = value instead\n",
      "\n",
      "See the caveats in the documentation: https://pandas.pydata.org/pandas-docs/stable/user_guide/indexing.html#returning-a-view-versus-a-copy\n",
      "  self[name] = value\n"
     ]
    }
   ],
   "source": [
    "# Convierto a 1 y 0 outofschedule\n",
    "\n",
    "data.outofschedule = data.outofschedule.apply(lambda x: 1 if x == True else 0)"
   ]
  }
 ],
 "metadata": {
  "kernelspec": {
   "display_name": "Python 3 (ipykernel)",
   "language": "python",
   "name": "python3"
  },
  "language_info": {
   "codemirror_mode": {
    "name": "ipython",
    "version": 3
   },
   "file_extension": ".py",
   "mimetype": "text/x-python",
   "name": "python",
   "nbconvert_exporter": "python",
   "pygments_lexer": "ipython3",
   "version": "3.8.13"
  }
 },
 "nbformat": 4,
 "nbformat_minor": 5
}
