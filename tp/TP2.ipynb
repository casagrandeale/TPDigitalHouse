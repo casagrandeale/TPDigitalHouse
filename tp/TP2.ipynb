{
 "cells": [
  {
   "cell_type": "code",
   "execution_count": 1,
   "id": "d9a6ac83",
   "metadata": {},
   "outputs": [],
   "source": [
    "import numpy as np\n",
    "import pandas as pd\n",
    "import matplotlib.pyplot as plt\n",
    "import seaborn as sns\n",
    "\n",
    "data = pd.read_csv('dataset_caba.csv')\n"
   ]
  },
  {
   "cell_type": "code",
   "execution_count": 2,
   "id": "d482f3e1",
   "metadata": {},
   "outputs": [
    {
     "name": "stdout",
     "output_type": "stream",
     "text": [
      "<class 'pandas.core.frame.DataFrame'>\n",
      "RangeIndex: 20932 entries, 0 to 20931\n",
      "Data columns (total 19 columns):\n",
      " #   Column                 Non-Null Count  Dtype  \n",
      "---  ------                 --------------  -----  \n",
      " 0   Unnamed: 0             20932 non-null  int64  \n",
      " 1   property_type          20932 non-null  object \n",
      " 2   place_name             20932 non-null  object \n",
      " 3   lat-lon                20932 non-null  object \n",
      " 4   lat                    20932 non-null  float64\n",
      " 5   lon                    20932 non-null  float64\n",
      " 6   price                  20932 non-null  float64\n",
      " 7   surface_total_in_m2    20932 non-null  float64\n",
      " 8   surface_covered_in_m2  20932 non-null  float64\n",
      " 9   price_usd_per_m2       20932 non-null  float64\n",
      " 10  floor                  6868 non-null   float64\n",
      " 11  rooms                  15070 non-null  float64\n",
      " 12  description            20932 non-null  object \n",
      " 13  title                  20932 non-null  object \n",
      " 14  Point                  20932 non-null  object \n",
      " 15  place_name_normalized  20932 non-null  object \n",
      " 16  disposicion            10288 non-null  object \n",
      " 17  aAstrenar              20932 non-null  int64  \n",
      " 18  garage                 20932 non-null  int64  \n",
      "dtypes: float64(8), int64(3), object(8)\n",
      "memory usage: 3.0+ MB\n"
     ]
    }
   ],
   "source": [
    "data.info()"
   ]
  },
  {
   "cell_type": "code",
   "execution_count": null,
   "id": "f7cf8037",
   "metadata": {},
   "outputs": [],
   "source": []
  },
  {
   "cell_type": "code",
   "execution_count": 3,
   "id": "8a1cac79",
   "metadata": {},
   "outputs": [
    {
     "name": "stdout",
     "output_type": "stream",
     "text": [
      "<class 'pandas.core.frame.DataFrame'>\n",
      "RangeIndex: 20932 entries, 0 to 20931\n",
      "Data columns (total 70 columns):\n",
      " #   Column                                            Non-Null Count  Dtype  \n",
      "---  ------                                            --------------  -----  \n",
      " 0   Unnamed: 0                                        20932 non-null  int64  \n",
      " 1   property_type                                     20932 non-null  object \n",
      " 2   place_name                                        20932 non-null  object \n",
      " 3   lat-lon                                           20932 non-null  object \n",
      " 4   lat                                               20932 non-null  float64\n",
      " 5   lon                                               20932 non-null  float64\n",
      " 6   price                                             20932 non-null  float64\n",
      " 7   surface_total_in_m2                               20932 non-null  float64\n",
      " 8   surface_covered_in_m2                             20932 non-null  float64\n",
      " 9   price_usd_per_m2                                  20932 non-null  float64\n",
      " 10  floor                                             6868 non-null   float64\n",
      " 11  rooms                                             15070 non-null  float64\n",
      " 12  description                                       20932 non-null  object \n",
      " 13  title                                             20932 non-null  object \n",
      " 14  Point                                             20932 non-null  object \n",
      " 15  place_name_normalized                             20932 non-null  object \n",
      " 16  disposicion                                       10288 non-null  object \n",
      " 17  aAstrenar                                         20932 non-null  int64  \n",
      " 18  garage                                            20932 non-null  int64  \n",
      " 19  disp__contrafrente                                20932 non-null  uint8  \n",
      " 20  disp__frente                                      20932 non-null  uint8  \n",
      " 21  disp__lateral                                     20932 non-null  uint8  \n",
      " 22  barrio_place_name_normalized_Agronomía            20932 non-null  uint8  \n",
      " 23  barrio_place_name_normalized_Almagro              20932 non-null  uint8  \n",
      " 24  barrio_place_name_normalized_Balvanera            20932 non-null  uint8  \n",
      " 25  barrio_place_name_normalized_Barracas             20932 non-null  uint8  \n",
      " 26  barrio_place_name_normalized_Belgrano             20932 non-null  uint8  \n",
      " 27  barrio_place_name_normalized_Boca                 20932 non-null  uint8  \n",
      " 28  barrio_place_name_normalized_Boedo                20932 non-null  uint8  \n",
      " 29  barrio_place_name_normalized_Caballito            20932 non-null  uint8  \n",
      " 30  barrio_place_name_normalized_Chacarita            20932 non-null  uint8  \n",
      " 31  barrio_place_name_normalized_Coghlan              20932 non-null  uint8  \n",
      " 32  barrio_place_name_normalized_Colegiales           20932 non-null  uint8  \n",
      " 33  barrio_place_name_normalized_Constitución         20932 non-null  uint8  \n",
      " 34  barrio_place_name_normalized_Flores               20932 non-null  uint8  \n",
      " 35  barrio_place_name_normalized_Floresta             20932 non-null  uint8  \n",
      " 36  barrio_place_name_normalized_Liniers              20932 non-null  uint8  \n",
      " 37  barrio_place_name_normalized_Mataderos            20932 non-null  uint8  \n",
      " 38  barrio_place_name_normalized_Monserrat            20932 non-null  uint8  \n",
      " 39  barrio_place_name_normalized_Monte Castro         20932 non-null  uint8  \n",
      " 40  barrio_place_name_normalized_Nueva Pompeya        20932 non-null  uint8  \n",
      " 41  barrio_place_name_normalized_Nuñez                20932 non-null  uint8  \n",
      " 42  barrio_place_name_normalized_Palermo              20932 non-null  uint8  \n",
      " 43  barrio_place_name_normalized_Parque Avellaneda    20932 non-null  uint8  \n",
      " 44  barrio_place_name_normalized_Parque Chacabuco     20932 non-null  uint8  \n",
      " 45  barrio_place_name_normalized_Parque Chas          20932 non-null  uint8  \n",
      " 46  barrio_place_name_normalized_Parque Patricios     20932 non-null  uint8  \n",
      " 47  barrio_place_name_normalized_Paternal             20932 non-null  uint8  \n",
      " 48  barrio_place_name_normalized_Puerto Madero        20932 non-null  uint8  \n",
      " 49  barrio_place_name_normalized_Recoleta             20932 non-null  uint8  \n",
      " 50  barrio_place_name_normalized_Retiro               20932 non-null  uint8  \n",
      " 51  barrio_place_name_normalized_Saavedra             20932 non-null  uint8  \n",
      " 52  barrio_place_name_normalized_San Cristóbal        20932 non-null  uint8  \n",
      " 53  barrio_place_name_normalized_San Nicolás          20932 non-null  uint8  \n",
      " 54  barrio_place_name_normalized_San Telmo            20932 non-null  uint8  \n",
      " 55  barrio_place_name_normalized_Velez Sarsfield      20932 non-null  uint8  \n",
      " 56  barrio_place_name_normalized_Versalles            20932 non-null  uint8  \n",
      " 57  barrio_place_name_normalized_Villa Crespo         20932 non-null  uint8  \n",
      " 58  barrio_place_name_normalized_Villa Devoto         20932 non-null  uint8  \n",
      " 59  barrio_place_name_normalized_Villa General Mitre  20932 non-null  uint8  \n",
      " 60  barrio_place_name_normalized_Villa Lugano         20932 non-null  uint8  \n",
      " 61  barrio_place_name_normalized_Villa Luro           20932 non-null  uint8  \n",
      " 62  barrio_place_name_normalized_Villa Ortuzar        20932 non-null  uint8  \n",
      " 63  barrio_place_name_normalized_Villa Pueyrredón     20932 non-null  uint8  \n",
      " 64  barrio_place_name_normalized_Villa Real           20932 non-null  uint8  \n",
      " 65  barrio_place_name_normalized_Villa Riachuelo      20932 non-null  uint8  \n",
      " 66  barrio_place_name_normalized_Villa Santa Rita     20932 non-null  uint8  \n",
      " 67  barrio_place_name_normalized_Villa Soldati        20932 non-null  uint8  \n",
      " 68  barrio_place_name_normalized_Villa Urquiza        20932 non-null  uint8  \n",
      " 69  barrio_place_name_normalized_Villa del Parque     20932 non-null  uint8  \n",
      "dtypes: float64(8), int64(3), object(8), uint8(51)\n",
      "memory usage: 4.1+ MB\n"
     ]
    }
   ],
   "source": [
    "#Convertimos a dummy la disposicion\n",
    "df_dummies = data\n",
    "\n",
    "df_dummies = pd.concat([data, pd.get_dummies(data = data['disposicion'], prefix= 'disp_')], axis = 1)\n",
    "\n",
    "#Convertimos a dummy los barrios\n",
    "df_dummies = pd.concat([df_dummies, pd.get_dummies(data = data['place_name_normalized'], prefix= 'barrio_place_name_normalized')], axis = 1)\n",
    "\n",
    "df_dummies.info()"
   ]
  },
  {
   "cell_type": "code",
   "execution_count": 4,
   "id": "0131085f",
   "metadata": {},
   "outputs": [],
   "source": [
    "# quitamos columnas \n",
    "\n",
    "df_dummies = df_dummies.drop(['property_type','description','title','lat-lon','Point','place_name','place_name_normalized','disposicion'], axis=1)\n",
    "\n",
    "#Reseteo el index\n",
    "df_dummies.reset_index(inplace=True, drop=True)\n",
    "\n"
   ]
  },
  {
   "cell_type": "code",
   "execution_count": 5,
   "id": "c46cc3b3",
   "metadata": {},
   "outputs": [],
   "source": [
    "from sklearn import linear_model\n",
    "from sklearn.metrics import r2_score\n",
    "from sklearn.model_selection import train_test_split"
   ]
  },
  {
   "cell_type": "code",
   "execution_count": 6,
   "id": "7f1ca3e3",
   "metadata": {},
   "outputs": [],
   "source": [
    "X = df_dummies.drop(['price_usd_per_m2','rooms','floor'], axis = 1)\n",
    "y = df_dummies['price_usd_per_m2']\n",
    "\n",
    "#Separamos en train y test\n",
    "X_train, X_test, y_train, y_test = train_test_split(X, y, test_size=0.25, random_state=123)\n"
   ]
  },
  {
   "cell_type": "code",
   "execution_count": 7,
   "id": "9593bc30",
   "metadata": {},
   "outputs": [
    {
     "name": "stdout",
     "output_type": "stream",
     "text": [
      "Score de Regresion Lineal: 0.5873687405400876\n"
     ]
    }
   ],
   "source": [
    "\n",
    "#Instanciamos el modelo\n",
    "\n",
    "lm = linear_model.LinearRegression()\n",
    "\n",
    "#Entrenamos el modelo\n",
    "reg_lineal = lm.fit(X_train, y_train)\n",
    "\n",
    "#Guardamos el score del modelo en una variable para poder comparar\n",
    "R2_reg_lin_precio = reg_lineal.score(X_test, y_test)\n",
    "\n",
    "#Prediccion con el set de testeo\n",
    "\n",
    "print('Score de Regresion Lineal:', reg_lineal.score(X_test, y_test))\n"
   ]
  },
  {
   "cell_type": "code",
   "execution_count": null,
   "id": "1461b3fb",
   "metadata": {},
   "outputs": [],
   "source": []
  }
 ],
 "metadata": {
  "kernelspec": {
   "display_name": "Python [conda env:.conda-dhdsblend2021] *",
   "language": "python",
   "name": "conda-env-.conda-dhdsblend2021-py"
  },
  "language_info": {
   "codemirror_mode": {
    "name": "ipython",
    "version": 3
   },
   "file_extension": ".py",
   "mimetype": "text/x-python",
   "name": "python",
   "nbconvert_exporter": "python",
   "pygments_lexer": "ipython3",
   "version": "3.8.13"
  }
 },
 "nbformat": 4,
 "nbformat_minor": 5
}
