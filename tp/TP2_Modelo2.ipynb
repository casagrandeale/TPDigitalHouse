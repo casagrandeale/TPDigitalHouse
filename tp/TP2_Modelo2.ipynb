{
 "cells": [
  {
   "cell_type": "code",
   "execution_count": 1,
   "id": "d9a6ac83",
   "metadata": {},
   "outputs": [],
   "source": [
    "#Librerias necesarias\n",
    "import numpy as np\n",
    "import pandas as pd\n",
    "\n",
    "import matplotlib.pyplot as plt\n",
    "import seaborn as sns\n",
    "\n",
    "from sklearn.preprocessing import StandardScaler\n",
    "from sklearn.model_selection import train_test_split\n",
    "from sklearn.linear_model import LinearRegression\n",
    "from sklearn import linear_model\n",
    "from sklearn.metrics import mean_absolute_error, mean_squared_error, r2_score\n",
    "\n",
    "import statsmodels.api as sm"
   ]
  },
  {
   "cell_type": "markdown",
   "id": "4c19a25e",
   "metadata": {},
   "source": [
    "---\n",
    "# Inicio\n",
    "## Cargamos el dataset"
   ]
  },
  {
   "cell_type": "code",
   "execution_count": 2,
   "id": "471bcb4b",
   "metadata": {},
   "outputs": [
    {
     "data": {
      "text/html": [
       "<div>\n",
       "<style scoped>\n",
       "    .dataframe tbody tr th:only-of-type {\n",
       "        vertical-align: middle;\n",
       "    }\n",
       "\n",
       "    .dataframe tbody tr th {\n",
       "        vertical-align: top;\n",
       "    }\n",
       "\n",
       "    .dataframe thead th {\n",
       "        text-align: right;\n",
       "    }\n",
       "</style>\n",
       "<table border=\"1\" class=\"dataframe\">\n",
       "  <thead>\n",
       "    <tr style=\"text-align: right;\">\n",
       "      <th></th>\n",
       "      <th>ptype</th>\n",
       "      <th>price</th>\n",
       "      <th>surface_total_in_m2</th>\n",
       "      <th>surface_covered_in_m2</th>\n",
       "      <th>price_usd_per_m2</th>\n",
       "      <th>floor</th>\n",
       "      <th>rooms</th>\n",
       "      <th>place</th>\n",
       "      <th>disposicion</th>\n",
       "      <th>aEstrenar</th>\n",
       "      <th>garage</th>\n",
       "      <th>balcon</th>\n",
       "      <th>piscina</th>\n",
       "      <th>sum</th>\n",
       "      <th>patio</th>\n",
       "      <th>lavadero</th>\n",
       "      <th>amenities</th>\n",
       "      <th>parrilla</th>\n",
       "    </tr>\n",
       "  </thead>\n",
       "  <tbody>\n",
       "    <tr>\n",
       "      <th>4677</th>\n",
       "      <td>apartment</td>\n",
       "      <td>385000.0</td>\n",
       "      <td>211.0</td>\n",
       "      <td>171.0</td>\n",
       "      <td>1824.644550</td>\n",
       "      <td>0.0</td>\n",
       "      <td>5.0</td>\n",
       "      <td>Parque Patricios</td>\n",
       "      <td>contrafrente</td>\n",
       "      <td>0</td>\n",
       "      <td>0</td>\n",
       "      <td>1</td>\n",
       "      <td>0</td>\n",
       "      <td>1</td>\n",
       "      <td>0</td>\n",
       "      <td>0</td>\n",
       "      <td>0</td>\n",
       "      <td>1</td>\n",
       "    </tr>\n",
       "    <tr>\n",
       "      <th>3623</th>\n",
       "      <td>apartment</td>\n",
       "      <td>88000.0</td>\n",
       "      <td>33.0</td>\n",
       "      <td>33.0</td>\n",
       "      <td>2666.666667</td>\n",
       "      <td>0.0</td>\n",
       "      <td>1.0</td>\n",
       "      <td>Recoleta</td>\n",
       "      <td>frente</td>\n",
       "      <td>0</td>\n",
       "      <td>0</td>\n",
       "      <td>0</td>\n",
       "      <td>0</td>\n",
       "      <td>0</td>\n",
       "      <td>1</td>\n",
       "      <td>1</td>\n",
       "      <td>0</td>\n",
       "      <td>0</td>\n",
       "    </tr>\n",
       "    <tr>\n",
       "      <th>2316</th>\n",
       "      <td>apartment</td>\n",
       "      <td>380000.0</td>\n",
       "      <td>331.0</td>\n",
       "      <td>331.0</td>\n",
       "      <td>1148.036254</td>\n",
       "      <td>1.0</td>\n",
       "      <td>6.0</td>\n",
       "      <td>Caballito</td>\n",
       "      <td>frente</td>\n",
       "      <td>0</td>\n",
       "      <td>1</td>\n",
       "      <td>1</td>\n",
       "      <td>0</td>\n",
       "      <td>0</td>\n",
       "      <td>1</td>\n",
       "      <td>0</td>\n",
       "      <td>0</td>\n",
       "      <td>0</td>\n",
       "    </tr>\n",
       "  </tbody>\n",
       "</table>\n",
       "</div>"
      ],
      "text/plain": [
       "          ptype     price  surface_total_in_m2  surface_covered_in_m2  \\\n",
       "4677  apartment  385000.0                211.0                  171.0   \n",
       "3623  apartment   88000.0                 33.0                   33.0   \n",
       "2316  apartment  380000.0                331.0                  331.0   \n",
       "\n",
       "      price_usd_per_m2  floor  rooms             place   disposicion  \\\n",
       "4677       1824.644550    0.0    5.0  Parque Patricios  contrafrente   \n",
       "3623       2666.666667    0.0    1.0          Recoleta        frente   \n",
       "2316       1148.036254    1.0    6.0         Caballito        frente   \n",
       "\n",
       "      aEstrenar  garage  balcon  piscina  sum  patio  lavadero  amenities  \\\n",
       "4677          0       0       1        0    1      0         0          0   \n",
       "3623          0       0       0        0    0      1         1          0   \n",
       "2316          0       1       1        0    0      1         0          0   \n",
       "\n",
       "      parrilla  \n",
       "4677         1  \n",
       "3623         0  \n",
       "2316         0  "
      ]
     },
     "execution_count": 2,
     "metadata": {},
     "output_type": "execute_result"
    }
   ],
   "source": [
    "#Cargamos el dataset limpio del TP 1\n",
    "data = pd.read_csv('dataset_caba.csv')\n",
    "data.drop(['Unnamed: 0'],axis=1,inplace=True)\n",
    "data.rename(columns={'place_name_normalized':'place', 'property_type':'ptype'}, inplace=True)\n",
    "data.sample(3)"
   ]
  },
  {
   "cell_type": "markdown",
   "id": "0277ccb3",
   "metadata": {},
   "source": [
    "---\n",
    "# Modelo\n",
    "Este modelo utiliza las columnas entregadas en el TP 1."
   ]
  },
  {
   "cell_type": "code",
   "execution_count": 3,
   "id": "de9331d9",
   "metadata": {},
   "outputs": [
    {
     "data": {
      "text/html": [
       "<div>\n",
       "<style scoped>\n",
       "    .dataframe tbody tr th:only-of-type {\n",
       "        vertical-align: middle;\n",
       "    }\n",
       "\n",
       "    .dataframe tbody tr th {\n",
       "        vertical-align: top;\n",
       "    }\n",
       "\n",
       "    .dataframe thead th {\n",
       "        text-align: right;\n",
       "    }\n",
       "</style>\n",
       "<table border=\"1\" class=\"dataframe\">\n",
       "  <thead>\n",
       "    <tr style=\"text-align: right;\">\n",
       "      <th></th>\n",
       "      <th>price_usd_per_m2</th>\n",
       "      <th>ptype</th>\n",
       "      <th>floor</th>\n",
       "      <th>rooms</th>\n",
       "      <th>place</th>\n",
       "      <th>disposicion</th>\n",
       "      <th>aEstrenar</th>\n",
       "    </tr>\n",
       "  </thead>\n",
       "  <tbody>\n",
       "    <tr>\n",
       "      <th>5852</th>\n",
       "      <td>1875.000000</td>\n",
       "      <td>apartment</td>\n",
       "      <td>2.0</td>\n",
       "      <td>2.0</td>\n",
       "      <td>Floresta</td>\n",
       "      <td>frente</td>\n",
       "      <td>0</td>\n",
       "    </tr>\n",
       "    <tr>\n",
       "      <th>2347</th>\n",
       "      <td>2600.000000</td>\n",
       "      <td>apartment</td>\n",
       "      <td>4.0</td>\n",
       "      <td>4.0</td>\n",
       "      <td>Colegiales</td>\n",
       "      <td>frente</td>\n",
       "      <td>0</td>\n",
       "    </tr>\n",
       "    <tr>\n",
       "      <th>2191</th>\n",
       "      <td>2265.822785</td>\n",
       "      <td>apartment</td>\n",
       "      <td>2.0</td>\n",
       "      <td>4.0</td>\n",
       "      <td>Floresta</td>\n",
       "      <td>lateral</td>\n",
       "      <td>1</td>\n",
       "    </tr>\n",
       "  </tbody>\n",
       "</table>\n",
       "</div>"
      ],
      "text/plain": [
       "      price_usd_per_m2      ptype  floor  rooms       place disposicion  \\\n",
       "5852       1875.000000  apartment    2.0    2.0    Floresta      frente   \n",
       "2347       2600.000000  apartment    4.0    4.0  Colegiales      frente   \n",
       "2191       2265.822785  apartment    2.0    4.0    Floresta     lateral   \n",
       "\n",
       "      aEstrenar  \n",
       "5852          0  \n",
       "2347          0  \n",
       "2191          1  "
      ]
     },
     "execution_count": 3,
     "metadata": {},
     "output_type": "execute_result"
    }
   ],
   "source": [
    "y_columnas = ['price_usd_per_m2']\n",
    "x_columnas = ['ptype','floor','rooms', 'place', 'disposicion', 'aEstrenar']\n",
    "data_modelo =  pd.concat([data[y_columnas],data[x_columnas]], axis = 1)\n",
    "data_modelo.sample(3)"
   ]
  },
  {
   "cell_type": "code",
   "execution_count": 7,
   "id": "0e683ff1",
   "metadata": {},
   "outputs": [
    {
     "data": {
      "text/html": [
       "<div>\n",
       "<style scoped>\n",
       "    .dataframe tbody tr th:only-of-type {\n",
       "        vertical-align: middle;\n",
       "    }\n",
       "\n",
       "    .dataframe tbody tr th {\n",
       "        vertical-align: top;\n",
       "    }\n",
       "\n",
       "    .dataframe thead th {\n",
       "        text-align: right;\n",
       "    }\n",
       "</style>\n",
       "<table border=\"1\" class=\"dataframe\">\n",
       "  <thead>\n",
       "    <tr style=\"text-align: right;\">\n",
       "      <th></th>\n",
       "      <th>price_usd_per_m2</th>\n",
       "      <th>ptype</th>\n",
       "      <th>floor</th>\n",
       "      <th>rooms</th>\n",
       "      <th>place</th>\n",
       "      <th>disposicion</th>\n",
       "      <th>aEstrenar</th>\n",
       "    </tr>\n",
       "  </thead>\n",
       "  <tbody>\n",
       "    <tr>\n",
       "      <th>0</th>\n",
       "      <td>1309.090909</td>\n",
       "      <td>apartment</td>\n",
       "      <td>3.0</td>\n",
       "      <td>2.0</td>\n",
       "      <td>Liniers</td>\n",
       "      <td>lateral</td>\n",
       "      <td>0</td>\n",
       "    </tr>\n",
       "    <tr>\n",
       "      <th>1</th>\n",
       "      <td>1812.500000</td>\n",
       "      <td>apartment</td>\n",
       "      <td>2.0</td>\n",
       "      <td>4.0</td>\n",
       "      <td>Boedo</td>\n",
       "      <td>frente</td>\n",
       "      <td>0</td>\n",
       "    </tr>\n",
       "    <tr>\n",
       "      <th>2</th>\n",
       "      <td>1702.127660</td>\n",
       "      <td>apartment</td>\n",
       "      <td>1.0</td>\n",
       "      <td>5.0</td>\n",
       "      <td>Balvanera</td>\n",
       "      <td>frente</td>\n",
       "      <td>0</td>\n",
       "    </tr>\n",
       "    <tr>\n",
       "      <th>3</th>\n",
       "      <td>2200.000000</td>\n",
       "      <td>apartment</td>\n",
       "      <td>1.0</td>\n",
       "      <td>3.0</td>\n",
       "      <td>Caballito</td>\n",
       "      <td>contrafrente</td>\n",
       "      <td>0</td>\n",
       "    </tr>\n",
       "    <tr>\n",
       "      <th>4</th>\n",
       "      <td>3236.363636</td>\n",
       "      <td>apartment</td>\n",
       "      <td>12.0</td>\n",
       "      <td>3.0</td>\n",
       "      <td>Belgrano</td>\n",
       "      <td>frente</td>\n",
       "      <td>0</td>\n",
       "    </tr>\n",
       "    <tr>\n",
       "      <th>...</th>\n",
       "      <td>...</td>\n",
       "      <td>...</td>\n",
       "      <td>...</td>\n",
       "      <td>...</td>\n",
       "      <td>...</td>\n",
       "      <td>...</td>\n",
       "      <td>...</td>\n",
       "    </tr>\n",
       "    <tr>\n",
       "      <th>6397</th>\n",
       "      <td>1857.142857</td>\n",
       "      <td>apartment</td>\n",
       "      <td>2.0</td>\n",
       "      <td>2.0</td>\n",
       "      <td>Boca</td>\n",
       "      <td>frente</td>\n",
       "      <td>0</td>\n",
       "    </tr>\n",
       "    <tr>\n",
       "      <th>6398</th>\n",
       "      <td>3461.538462</td>\n",
       "      <td>apartment</td>\n",
       "      <td>4.0</td>\n",
       "      <td>4.0</td>\n",
       "      <td>Caballito</td>\n",
       "      <td>frente</td>\n",
       "      <td>0</td>\n",
       "    </tr>\n",
       "    <tr>\n",
       "      <th>6399</th>\n",
       "      <td>2650.000000</td>\n",
       "      <td>apartment</td>\n",
       "      <td>1.0</td>\n",
       "      <td>3.0</td>\n",
       "      <td>Palermo</td>\n",
       "      <td>frente</td>\n",
       "      <td>0</td>\n",
       "    </tr>\n",
       "    <tr>\n",
       "      <th>6400</th>\n",
       "      <td>1826.923077</td>\n",
       "      <td>apartment</td>\n",
       "      <td>1.0</td>\n",
       "      <td>0.0</td>\n",
       "      <td>Villa General Mitre</td>\n",
       "      <td>frente</td>\n",
       "      <td>0</td>\n",
       "    </tr>\n",
       "    <tr>\n",
       "      <th>6401</th>\n",
       "      <td>2611.464968</td>\n",
       "      <td>apartment</td>\n",
       "      <td>1.0</td>\n",
       "      <td>0.0</td>\n",
       "      <td>Palermo</td>\n",
       "      <td>frente</td>\n",
       "      <td>0</td>\n",
       "    </tr>\n",
       "  </tbody>\n",
       "</table>\n",
       "<p>6402 rows × 7 columns</p>\n",
       "</div>"
      ],
      "text/plain": [
       "      price_usd_per_m2      ptype  floor  rooms                place  \\\n",
       "0          1309.090909  apartment    3.0    2.0              Liniers   \n",
       "1          1812.500000  apartment    2.0    4.0                Boedo   \n",
       "2          1702.127660  apartment    1.0    5.0            Balvanera   \n",
       "3          2200.000000  apartment    1.0    3.0            Caballito   \n",
       "4          3236.363636  apartment   12.0    3.0             Belgrano   \n",
       "...                ...        ...    ...    ...                  ...   \n",
       "6397       1857.142857  apartment    2.0    2.0                 Boca   \n",
       "6398       3461.538462  apartment    4.0    4.0            Caballito   \n",
       "6399       2650.000000  apartment    1.0    3.0              Palermo   \n",
       "6400       1826.923077  apartment    1.0    0.0  Villa General Mitre   \n",
       "6401       2611.464968  apartment    1.0    0.0              Palermo   \n",
       "\n",
       "       disposicion  aEstrenar  \n",
       "0          lateral          0  \n",
       "1           frente          0  \n",
       "2           frente          0  \n",
       "3     contrafrente          0  \n",
       "4           frente          0  \n",
       "...            ...        ...  \n",
       "6397        frente          0  \n",
       "6398        frente          0  \n",
       "6399        frente          0  \n",
       "6400        frente          0  \n",
       "6401        frente          0  \n",
       "\n",
       "[6402 rows x 7 columns]"
      ]
     },
     "execution_count": 7,
     "metadata": {},
     "output_type": "execute_result"
    }
   ],
   "source": [
    "data_modelo"
   ]
  },
  {
   "cell_type": "markdown",
   "id": "cf0a4fb8",
   "metadata": {},
   "source": [
    "### Análisis correlación"
   ]
  },
  {
   "cell_type": "code",
   "execution_count": 5,
   "id": "5d36d425",
   "metadata": {},
   "outputs": [
    {
     "data": {
      "text/html": [
       "<div>\n",
       "<style scoped>\n",
       "    .dataframe tbody tr th:only-of-type {\n",
       "        vertical-align: middle;\n",
       "    }\n",
       "\n",
       "    .dataframe tbody tr th {\n",
       "        vertical-align: top;\n",
       "    }\n",
       "\n",
       "    .dataframe thead th {\n",
       "        text-align: right;\n",
       "    }\n",
       "</style>\n",
       "<table border=\"1\" class=\"dataframe\">\n",
       "  <thead>\n",
       "    <tr style=\"text-align: right;\">\n",
       "      <th></th>\n",
       "      <th>price_usd_per_m2</th>\n",
       "      <th>floor</th>\n",
       "      <th>rooms</th>\n",
       "      <th>aEstrenar</th>\n",
       "    </tr>\n",
       "  </thead>\n",
       "  <tbody>\n",
       "    <tr>\n",
       "      <th>price_usd_per_m2</th>\n",
       "      <td>1.000000</td>\n",
       "      <td>0.058369</td>\n",
       "      <td>-0.144575</td>\n",
       "      <td>0.104907</td>\n",
       "    </tr>\n",
       "    <tr>\n",
       "      <th>floor</th>\n",
       "      <td>0.058369</td>\n",
       "      <td>1.000000</td>\n",
       "      <td>0.033199</td>\n",
       "      <td>0.016038</td>\n",
       "    </tr>\n",
       "    <tr>\n",
       "      <th>rooms</th>\n",
       "      <td>-0.144575</td>\n",
       "      <td>0.033199</td>\n",
       "      <td>1.000000</td>\n",
       "      <td>-0.183809</td>\n",
       "    </tr>\n",
       "    <tr>\n",
       "      <th>aEstrenar</th>\n",
       "      <td>0.104907</td>\n",
       "      <td>0.016038</td>\n",
       "      <td>-0.183809</td>\n",
       "      <td>1.000000</td>\n",
       "    </tr>\n",
       "  </tbody>\n",
       "</table>\n",
       "</div>"
      ],
      "text/plain": [
       "                  price_usd_per_m2     floor     rooms  aEstrenar\n",
       "price_usd_per_m2          1.000000  0.058369 -0.144575   0.104907\n",
       "floor                     0.058369  1.000000  0.033199   0.016038\n",
       "rooms                    -0.144575  0.033199  1.000000  -0.183809\n",
       "aEstrenar                 0.104907  0.016038 -0.183809   1.000000"
      ]
     },
     "execution_count": 5,
     "metadata": {},
     "output_type": "execute_result"
    }
   ],
   "source": [
    "#Análisis de correlación entre variables\n",
    "data_modelo.corr()"
   ]
  },
  {
   "cell_type": "code",
   "execution_count": 8,
   "id": "310bc96a",
   "metadata": {
    "scrolled": false
   },
   "outputs": [
    {
     "data": {
      "image/png": "[encoded data removed]",
      "text/plain": [
       "<Figure size 1080x576 with 2 Axes>"
      ]
     },
     "metadata": {},
     "output_type": "display_data"
    }
   ],
   "source": [
    "# visualizamos la matriz de correlación en Seaborn usando a heatmap\n",
    "sns.set(rc = {'figure.figsize':(15,8)})\n",
    "sns.heatmap(data_modelo.corr(), vmin=-1, vmax=1, center=0, cmap=\"YlGnBu\",annot=True);"
   ]
  },
  {
   "cell_type": "code",
   "execution_count": 9,
   "id": "b4965add",
   "metadata": {},
   "outputs": [
    {
     "data": {
      "text/plain": [
       "<seaborn.axisgrid.PairGrid at 0x26edd0bf5b0>"
      ]
     },
     "execution_count": 9,
     "metadata": {},
     "output_type": "execute_result"
    },
    {
     "data": {
      "image/png": "[encoded data removed]",
      "text/plain": [
       "<Figure size 1152x1152 with 20 Axes>"
      ]
     },
     "metadata": {},
     "output_type": "display_data"
    }
   ],
   "source": [
    "sns.pairplot(data=data_modelo, height=4)"
   ]
  },
  {
   "cell_type": "code",
   "execution_count": 10,
   "id": "a23a9b3b",
   "metadata": {},
   "outputs": [],
   "source": [
    "name_model=\"Modelo 2\" #Cambiar este nombre para cambiar los resultados de los estadísticos de cada algoritmo"
   ]
  },
  {
   "cell_type": "markdown",
   "id": "43d62db8",
   "metadata": {},
   "source": [
    "## Pre-Training\n",
    "### Manejo variables categóricas\n",
    "Modificar las variables que deban ser dumificadas"
   ]
  },
  {
   "cell_type": "code",
   "execution_count": null,
   "id": "cc44ef31",
   "metadata": {},
   "outputs": [],
   "source": [
    "#Creo dummies\n",
    "#Convierto floor a object\n",
    "data_modelo['floor'] = data_modelo['floor'].astype(np.object)\n",
    "data_dummies=pd.get_dummies(data_modelo[['ptype','floor','place','disposicion']], drop_first = True)\n",
    "data_dummies"
   ]
  },
  {
   "cell_type": "code",
   "execution_count": null,
   "id": "610f12ec",
   "metadata": {},
   "outputs": [],
   "source": [
    "#Concateno las columnas que están por fuera del dummie\n",
    "columnas=['price_usd_per_m2','rooms','aEstrenar']\n",
    "data_modelo = pd.concat([data[columnas],data_dummies], axis = 1)\n",
    "data_modelo = data_modelo.reset_index(drop=True)\n",
    "data_modelo.head(3)"
   ]
  },
  {
   "cell_type": "markdown",
   "id": "93209146",
   "metadata": {},
   "source": [
    "## Algoritmos"
   ]
  },
  {
   "cell_type": "code",
   "execution_count": null,
   "id": "24d1aa36",
   "metadata": {},
   "outputs": [],
   "source": [
    "#Genero mi variable X\n",
    "X=data_modelo.drop(['price_usd_per_m2'],axis=1)\n",
    "\n",
    "#Genero la variable y\n",
    "y = data_modelo[y_columnas].squeeze()\n",
    "\n",
    "#Creamos las muestras\n",
    "X_train, X_test, y_train, y_test = train_test_split(X, y, test_size = 0.3, random_state = 10,shuffle=True)"
   ]
  },
  {
   "cell_type": "markdown",
   "id": "1afc9696",
   "metadata": {},
   "source": [
    "### Linear Regression"
   ]
  },
  {
   "cell_type": "code",
   "execution_count": null,
   "id": "ee74d01a",
   "metadata": {},
   "outputs": [],
   "source": [
    "#Entrenamos modelo LR\n",
    "model_lr = LinearRegression()\n",
    "model_lr.fit(X_train, y_train)\n",
    "#Predecimos\n",
    "lr_prediction = model_lr.predict(X_test)\n",
    "lr_prediction_train = model_lr.predict(X_train)\n",
    "\n",
    "intercept_lr = model_lr.intercept_\n",
    "coeff_lr = model_lr.coef_\n",
    "r2_test_lr = model_lr.score(X_test, y_test)\n",
    "r2_train_lr = model_lr.score(X_train, y_train)\n",
    "n = len(y_test)\n",
    "p = np.count_nonzero(coeff_lr)\n",
    "r2_adj_test_lr = 1-((1-r2_test_lr)*((len(y_test)-1)/(len(y_test)-p-1)))\n",
    "r2_adj_train_lr = 1-((1-r2_train_lr)*((len(y_train)-1)/(len(y_train)-p-1)))\n",
    "mse_test_lr = mean_squared_error(y_test, lr_prediction)\n",
    "mse_train_lr = mean_squared_error(y_train, lr_prediction_train)\n",
    "mae_test_lr = mean_absolute_error(y_test, lr_prediction)\n",
    "mae_train_lr = mean_absolute_error(y_train, lr_prediction_train)\n",
    "rmse_test_lr = np.sqrt(mse_test_lr)\n",
    "rmse_train_lr = np.sqrt(mse_train_lr)\n",
    "\n",
    "#Valores estadísticos MSE Test, MSE Train, MAE Test, MAE Train, RMSE Test, RMSE Train, R2 Test, R2 Train, R2 Adj Test, R2 Adj Train\n",
    "stats_lr=[mse_test_lr, mse_train_lr,\n",
    "            mae_test_lr, mae_train_lr, \n",
    "            rmse_test_lr,rmse_train_lr,\n",
    "            r2_test_lr,r2_train_lr,\n",
    "            r2_adj_test_lr,r2_adj_train_lr\n",
    "         ]\n",
    "\n",
    "stats_dataframe_lr=pd.DataFrame({name_model+' LR':stats_lr},index=['MSE Test', 'MSE Train', 'MAE Test', 'MAE Train', 'RMSE Test', 'RMSE Train', 'R2 Test','R2 Train', 'R2 Adj Test','R2 Adj Train'])\n",
    "stats_dataframe_lr"
   ]
  },
  {
   "cell_type": "code",
   "execution_count": null,
   "id": "d9538543",
   "metadata": {},
   "outputs": [],
   "source": [
    "print(\"Intercept:\", intercept_lr)\n",
    "print(\"Coeficientes:\")\n",
    "print(print(pd.Series(coeff_lr, index=X.columns)))"
   ]
  },
  {
   "cell_type": "code",
   "execution_count": null,
   "id": "9405ef8f",
   "metadata": {},
   "outputs": [],
   "source": [
    "#Gráfico de los valores vs los predecidos\n",
    "fig, axes = plt.subplots(nrows=2, ncols=1, figsize=(15, 15))\n",
    "\n",
    "axes[0].plot([i for i in range(len(y_test))],y_test, 'ro', label=\"Test Values\")\n",
    "axes[0].plot([i for i in range(len(y_test))],lr_prediction, 'bo', label=\"Predicted LR values\")\n",
    "axes[0].legend()\n",
    "\n",
    "axes[1].plot([i for i in range(len(y_train))],y_train, 'ro', label=\"Train values\")\n",
    "axes[1].plot([i for i in range(len(y_train))],lr_prediction_train, 'bo', label=\"Predicted LR values\")\n",
    "axes[1].legend()\n",
    "\n",
    "fig.text(0.5, 0.09, 'Item', ha='center')\n",
    "fig.text(0.08, 0.5, 'Price USD/m2', va='center', rotation='vertical')\n",
    "plt.show()"
   ]
  },
  {
   "cell_type": "code",
   "execution_count": null,
   "id": "1518b300",
   "metadata": {
    "scrolled": false
   },
   "outputs": [],
   "source": [
    "eje_X=range(1,len(y_test)+1)\n",
    "plt.plot(eje_X, sorted(y_test), color='blue', label='Reales Test')\n",
    "plt.plot(eje_X, sorted(lr_prediction), color='green', label='Estimados Test LR')\n",
    "plt.legend()\n",
    "plt.title('Valores estimados vs valores reales')\n",
    "plt.xlabel('Index')\n",
    "plt.ylabel('USD Price/m2')\n",
    "plt.show()"
   ]
  },
  {
   "cell_type": "code",
   "execution_count": null,
   "id": "267d83d7",
   "metadata": {},
   "outputs": [],
   "source": [
    "#Qué tan alejados están los valores del error cuadrático medio MSE TEST\n",
    "err_cuad_test_lr=pow(y_test - lr_prediction,2)\n",
    "plt.scatter(y_test,err_cuad_test_lr, label='Error cuadrático')\n",
    "plt.plot(y_test,np.repeat(mse_test_lr,len(err_cuad_test_lr)), label='MSE Test LR', color='green')\n",
    "plt.legend()\n",
    "plt.xlabel('USD Price/m2')\n",
    "plt.ylabel('Error cuadrático')\n",
    "plt.show()"
   ]
  },
  {
   "cell_type": "code",
   "execution_count": null,
   "id": "07773d77",
   "metadata": {
    "scrolled": false
   },
   "outputs": [],
   "source": [
    "eje_X=range(1,len(y_train)+1)\n",
    "plt.plot(eje_X, sorted(y_train), color='blue', label='Reales Train')\n",
    "plt.plot(eje_X, sorted(lr_prediction_train), color='green', label='Estimados Train LR')\n",
    "plt.legend()\n",
    "plt.title('Valores estimados vs valores reales')\n",
    "plt.xlabel('Index')\n",
    "plt.ylabel('USD Price/m2')\n",
    "plt.show()"
   ]
  },
  {
   "cell_type": "code",
   "execution_count": null,
   "id": "b23682b8",
   "metadata": {},
   "outputs": [],
   "source": [
    "#Qué tan alejados están los valores del error cuadrático medio MSE TRAIN\n",
    "err_cuad_train_lr=pow(y_train - lr_prediction_train,2)\n",
    "plt.scatter(y_train,err_cuad_train_lr, label='Error cuadrático')\n",
    "plt.plot(y_train,np.repeat(mse_train_lr,len(err_cuad_train_lr)), label='MSE Train LR', color='green')\n",
    "plt.legend()\n",
    "plt.xlabel('USD Price/m2')\n",
    "plt.ylabel('Error cuadrático')\n",
    "plt.show()"
   ]
  },
  {
   "cell_type": "code",
   "execution_count": null,
   "id": "e8d5a343",
   "metadata": {},
   "outputs": [],
   "source": [
    "#Gráfico de los residuos/errores\n",
    "model_residuals_test_lr = y_test - lr_prediction\n",
    "model_residuals_train_lr = y_train-lr_prediction_train\n",
    "\n",
    "fig, axes = plt.subplots(nrows=2, ncols=1, figsize=(15, 15))\n",
    "\n",
    "axes[0].scatter(list(range(len(y_test))), model_residuals_test_lr,\n",
    "                   edgecolors=(0, 0, 0), alpha = 0.4, c=\"b\")\n",
    "axes[0].axhline(y = 0, linestyle = '--', color = 'black', lw=2)\n",
    "axes[0].set_title('Residuos del modelo con test', fontsize = 10, fontweight = \"bold\")\n",
    "axes[1].scatter(list(range(len(y_train))), model_residuals_train_lr,\n",
    "                   edgecolors=(0, 0, 0), alpha = 0.4, c=\"b\")\n",
    "axes[1].axhline(y = 0, linestyle = '--', color = 'black', lw=2)\n",
    "axes[1].set_title('Residuos del modelo con train', fontsize = 10, fontweight = \"bold\")"
   ]
  },
  {
   "cell_type": "code",
   "execution_count": null,
   "id": "2ed1e7ff",
   "metadata": {},
   "outputs": [],
   "source": [
    "#Histograma de residuos\n",
    "fig, (ax1,ax2) = plt.subplots(nrows=2, ncols=1, figsize=(15,14))\n",
    "\n",
    "model_residuals_test_lr.plot(kind = \"hist\", ax=ax2, density = True, bins = 15, color=\"blue\");\n",
    "model_residuals_test_lr.plot(kind = \"kde\",ax=ax2);\n",
    "model_residuals_train_lr.plot(kind = \"hist\", ax=ax1, density = True, bins = 15, color=\"orange\");\n",
    "model_residuals_train_lr.plot(kind = \"kde\",ax=ax1);\n",
    "ax1.set_title(\"Histograma de residuos para Test modelo LinearRidge\");\n",
    "ax2.set_title(\"Histograma de residuos para Train modelo LineraRidge\");"
   ]
  },
  {
   "cell_type": "markdown",
   "id": "e1b5a25f",
   "metadata": {},
   "source": [
    "### OLS"
   ]
  },
  {
   "cell_type": "code",
   "execution_count": null,
   "id": "3966cb0c",
   "metadata": {
    "scrolled": true
   },
   "outputs": [],
   "source": [
    "#Entrenamos modelo OLS\n",
    "X_train_sm = sm.add_constant(X_train)\n",
    "model_ols = sm.OLS(y_train, X_train_sm).fit()\n",
    "#Predecimos\n",
    "X_test_sm = sm.add_constant(X_test)\n",
    "sm_prediction = model_ols.predict(X_test_sm)\n",
    "X_train_sm = sm.add_constant(X_train)\n",
    "sm_prediction_train = model_ols.predict(X_train_sm)\n",
    "\n",
    "r2_test_ols = r2_score(y_test,sm_prediction)\n",
    "r2_train_ols = r2_score(y_train,sm_prediction_train)\n",
    "r2_adj_test_ols = sm.OLS(y_test, X_test_sm).fit().rsquared_adj\n",
    "r2_adj_train_ols = model_ols.rsquared_adj\n",
    "mse_test_ols = mean_squared_error(y_test, sm_prediction)\n",
    "mse_train_ols = mean_squared_error(y_train, sm_prediction_train)\n",
    "mae_test_ols = mean_absolute_error(y_test, sm_prediction)\n",
    "mae_train_ols = mean_absolute_error(y_train, sm_prediction_train)\n",
    "rmse_test_ols = np.sqrt(mse_test_ols)\n",
    "rmse_train_ols = np.sqrt(mse_train_ols)\n",
    "\n",
    "#Valores estadísticos MSE Test, MSE Train, MAE Test, MAE Train, RMSE Test, RMSE Train, R2 Test, R2 Train, R2 Adj Test, R2 Adj Train\n",
    "stats_ols=[mse_test_ols, mse_train_ols,\n",
    "            mae_test_ols, mae_train_ols, \n",
    "            rmse_test_ols,rmse_train_ols,\n",
    "            r2_test_ols,r2_train_ols,\n",
    "            r2_adj_test_ols,r2_adj_train_ols\n",
    "         ]\n",
    "\n",
    "stats_dataframe_ols=pd.DataFrame({name_model+' OLS':stats_ols},index=['MSE Test', 'MSE Train', 'MAE Test', 'MAE Train', 'RMSE Test', 'RMSE Train', 'R2 Test','R2 Train', 'R2 Adj Test','R2 Adj Train'])\n",
    "\n",
    "#Summary\n",
    "print(model_ols.summary())\n",
    "print(\"\")\n",
    "print(stats_dataframe_ols)"
   ]
  },
  {
   "cell_type": "code",
   "execution_count": null,
   "id": "153e1abb",
   "metadata": {
    "scrolled": false
   },
   "outputs": [],
   "source": [
    "#Gráfico de los valores vs los predecidos\n",
    "fig, axes = plt.subplots(nrows=2, ncols=1, figsize=(15, 15))\n",
    "\n",
    "axes[0].plot([i for i in range(len(y_test))],y_test, 'ro', label=\"Test Values\")\n",
    "axes[0].plot([i for i in range(len(y_test))],sm_prediction, 'bo', label=\"Predicted OLS values\")\n",
    "axes[0].legend()\n",
    "\n",
    "axes[1].plot([i for i in range(len(y_train))],y_train, 'ro', label=\"Train values\")\n",
    "axes[1].plot([i for i in range(len(y_train))],sm_prediction_train, 'bo', label=\"Predicted OLS values\")\n",
    "axes[1].legend()\n",
    "\n",
    "fig.text(0.5, 0.09, 'Item', ha='center')\n",
    "fig.text(0.08, 0.5, 'Price USD/m2', va='center', rotation='vertical')\n",
    "plt.show()"
   ]
  },
  {
   "cell_type": "code",
   "execution_count": null,
   "id": "478c84f5",
   "metadata": {
    "scrolled": false
   },
   "outputs": [],
   "source": [
    "eje_X=range(1,len(y_test)+1)\n",
    "plt.plot(eje_X, sorted(y_test), color='blue', label='Reales Test')\n",
    "plt.plot(eje_X, sorted(sm_prediction), color='green', label='Estimados Test OLS')\n",
    "plt.legend()\n",
    "plt.title('Valores estimados vs valores reales')\n",
    "plt.xlabel('Index')\n",
    "plt.ylabel('USD Price/m2')\n",
    "plt.show()"
   ]
  },
  {
   "cell_type": "code",
   "execution_count": null,
   "id": "cdc31f44",
   "metadata": {},
   "outputs": [],
   "source": [
    "#Qué tan alejados están los valores del error cuadrático medio MSE TEST\n",
    "err_cuad_test_ols=pow(y_test - sm_prediction,2)\n",
    "plt.scatter(y_test,err_cuad_test_ols, label='Error cuadrático')\n",
    "plt.plot(y_test,np.repeat(mse_test_ols,len(err_cuad_test_ols)), label='MSE Test OLS', color='green')\n",
    "plt.legend()\n",
    "plt.xlabel('USD Price/m2')\n",
    "plt.ylabel('Error cuadrático')\n",
    "plt.show()"
   ]
  },
  {
   "cell_type": "code",
   "execution_count": null,
   "id": "c95d4d97",
   "metadata": {
    "scrolled": false
   },
   "outputs": [],
   "source": [
    "eje_X=range(1,len(y_train)+1)\n",
    "plt.plot(eje_X, sorted(y_train), color='blue', label='Reales Train')\n",
    "plt.plot(eje_X, sorted(sm_prediction_train), color='green', label='Estimados Train OLS')\n",
    "plt.legend()\n",
    "plt.title('Valores estimados vs valores reales')\n",
    "plt.xlabel('Index')\n",
    "plt.ylabel('USD Price/m2')\n",
    "plt.show()"
   ]
  },
  {
   "cell_type": "code",
   "execution_count": null,
   "id": "615db59e",
   "metadata": {},
   "outputs": [],
   "source": [
    "#Qué tan alejados están los valores del error cuadrático medio MSE TRAIN\n",
    "err_cuad_train_ols=pow(y_train - sm_prediction_train,2)\n",
    "plt.scatter(y_train,err_cuad_train_ols, label='Error cuadrático')\n",
    "plt.plot(y_train,np.repeat(mse_train_ols,len(err_cuad_train_ols)), label='MSE Train', color='green')\n",
    "plt.legend()\n",
    "plt.xlabel('USD Price/m2')\n",
    "plt.ylabel('Error cuadrático')\n",
    "plt.show()"
   ]
  },
  {
   "cell_type": "code",
   "execution_count": null,
   "id": "38454c02",
   "metadata": {},
   "outputs": [],
   "source": [
    "#Gráfico de los residuos/errores\n",
    "model_residuals_test_ols = y_test - sm_prediction\n",
    "model_residuals_train_ols = y_train - sm_prediction_train\n",
    "\n",
    "fig, axes = plt.subplots(nrows=2, ncols=1, figsize=(15, 15))\n",
    "\n",
    "axes[0].scatter(list(range(len(y_test))), model_residuals_test_ols,\n",
    "                   edgecolors=(0, 0, 0), alpha = 0.4, c=\"b\")\n",
    "axes[0].axhline(y = 0, linestyle = '--', color = 'black', lw=2)\n",
    "axes[0].set_title('Residuos del modelo con test', fontsize = 10, fontweight = \"bold\")\n",
    "axes[1].scatter(list(range(len(y_train))), model_residuals_train_ols,\n",
    "                   edgecolors=(0, 0, 0), alpha = 0.4, c=\"b\")\n",
    "axes[1].axhline(y = 0, linestyle = '--', color = 'black', lw=2)\n",
    "axes[1].set_title('Residuos del modelo con train', fontsize = 10, fontweight = \"bold\")"
   ]
  },
  {
   "cell_type": "code",
   "execution_count": null,
   "id": "54fe6942",
   "metadata": {},
   "outputs": [],
   "source": [
    "#Histograma de residuos\n",
    "fig, (ax1,ax2) = plt.subplots(nrows=2, ncols=1, figsize=(15,14))\n",
    "\n",
    "model_residuals_test_ols.plot(kind = \"hist\", ax=ax2, density = True, bins = 15, color=\"blue\");\n",
    "model_residuals_test_ols.plot(kind = \"kde\",ax=ax2);\n",
    "model_residuals_train_ols.plot(kind = \"hist\", ax=ax1, density = True, bins = 15, color=\"orange\");\n",
    "model_residuals_train_ols.plot(kind = \"kde\",ax=ax1);\n",
    "ax1.set_title(\"Histograma de residuos para Test modelo OLS\");\n",
    "ax2.set_title(\"Histograma de residuos para Train modelo OLS\");"
   ]
  },
  {
   "cell_type": "markdown",
   "id": "8aee7224",
   "metadata": {},
   "source": [
    "### LASSO"
   ]
  },
  {
   "cell_type": "code",
   "execution_count": null,
   "id": "8d4b5d52",
   "metadata": {},
   "outputs": [],
   "source": [
    "#Análisis previo de los alpha\n",
    "alphas_lasso = np.linspace(0.01,1000,100)\n",
    "lasso = linear_model.Lasso(max_iter = 10000, normalize = False)\n",
    "coefs = []\n",
    "\n",
    "for a in alphas_lasso:\n",
    "    lasso.set_params(alpha=a)\n",
    "    lasso.fit(X_train, y_train)\n",
    "    coefs.append(lasso.coef_)\n",
    "\n",
    "ax = plt.gca()\n",
    "ax.plot(alphas_lasso, coefs)\n",
    "ax.set_xscale('log')\n",
    "plt.axis('tight')\n",
    "plt.xlabel('alpha')\n",
    "plt.ylabel('Coeficientes estandarizados')\n",
    "plt.title('Coeficientes Lasso como funcion de alpha');"
   ]
  },
  {
   "cell_type": "code",
   "execution_count": null,
   "id": "254a7a48",
   "metadata": {},
   "outputs": [],
   "source": [
    "#Creamos el modelo\n",
    "lassocv = linear_model.LassoCV(alphas=None,normalize=False,cv=10,random_state=10, max_iter=10000)\n",
    "#Lo entrenamos\n",
    "model_lasso = lassocv.fit(X_train, y_train)\n",
    "#Lo probamos\n",
    "lasso_prediction = model_lasso.predict(X_test)\n",
    "lasso_prediction_train = model_lasso.predict(X_train)\n",
    "\n",
    "alpha_lasso = model_lasso.alpha_\n",
    "coeff_lasso = model_lasso.coef_\n",
    "intercept_lasso = model_lasso.intercept_\n",
    "r2_test_lasso = model_lasso.score(X_test, y_test)\n",
    "r2_train_lasso = model_lasso.score(X_train, y_train)\n",
    "p = np.count_nonzero(coeff_lasso)\n",
    "r2_adj_test_lasso = 1-((1-r2_test_lasso)*((len(y_test)-1)/(len(y_test)-p-1)))\n",
    "r2_adj_train_lasso = 1-((1-r2_train_lasso)*((len(y_train)-1)/(len(y_train)-p-1)))\n",
    "mse_test_lasso = mean_squared_error(y_test, lasso_prediction)\n",
    "mse_train_lasso = mean_squared_error(y_train, lasso_prediction_train)\n",
    "mae_test_lasso = mean_absolute_error(y_test, lasso_prediction)\n",
    "mae_train_lasso = mean_absolute_error(y_train, lasso_prediction_train)\n",
    "rmse_test_lasso = np.sqrt(mse_test_lasso)\n",
    "rmse_train_lasso = np.sqrt(mse_train_lasso)\n",
    "\n",
    "#Valores estadísticos MSE Test, MSE Train, MAE Test, MAE Train, RMSE Test, RMSE Train, R2 Test, R2 Train, R2 Adj Test, R2 Adj Train\n",
    "stats_lasso = [mse_test_lasso, mse_train_lasso,\n",
    "                mae_test_lasso, mae_train_lasso, \n",
    "                rmse_test_lasso,rmse_train_lasso,\n",
    "                r2_test_lasso,r2_train_lasso,\n",
    "                r2_adj_test_lasso,r2_adj_train_lasso\n",
    "                ]\n",
    "\n",
    "stats_dataframe_lasso =pd.DataFrame({name_model+' Lasso':stats_lasso},index=['MSE Test', 'MSE Train', 'MAE Test', 'MAE Train', 'RMSE Test', 'RMSE Train', 'R2 Test','R2 Train', 'R2 Adj Test','R2 Adj Train'])\n",
    "stats_dataframe_lasso"
   ]
  },
  {
   "cell_type": "code",
   "execution_count": null,
   "id": "38b1809e",
   "metadata": {},
   "outputs": [],
   "source": [
    "print(\"Alpha Lasso:\",alpha_lasso)\n",
    "print(\"Intercept Lasso:\",intercept_lasso)\n",
    "print(\"Coeficientes Ridge:\")\n",
    "print(pd.Series(coeff_lasso, index=X.columns))"
   ]
  },
  {
   "cell_type": "code",
   "execution_count": null,
   "id": "25da1a80",
   "metadata": {},
   "outputs": [],
   "source": [
    "#Gráfico de los valores vs los predecidos\n",
    "fig, axes = plt.subplots(nrows=2, ncols=1, figsize=(15, 15))\n",
    "\n",
    "axes[0].plot([i for i in range(len(y_test))],y_test, 'ro', label=\"Test Values\")\n",
    "axes[0].plot([i for i in range(len(y_test))],lasso_prediction, 'bo', label=\"Predicted Lasso values\")\n",
    "axes[0].legend()\n",
    "\n",
    "axes[1].plot([i for i in range(len(y_train))],y_train, 'ro', label=\"Train values\")\n",
    "axes[1].plot([i for i in range(len(y_train))],lasso_prediction_train, 'bo', label=\"Predicted Lasso values\")\n",
    "axes[1].legend()\n",
    "\n",
    "fig.text(0.5, 0.09, 'Item', ha='center')\n",
    "fig.text(0.08, 0.5, 'Price USD/m2', va='center', rotation='vertical')\n",
    "plt.show()"
   ]
  },
  {
   "cell_type": "code",
   "execution_count": null,
   "id": "8481a0d3",
   "metadata": {
    "scrolled": false
   },
   "outputs": [],
   "source": [
    "eje_X=range(1,len(y_test)+1)\n",
    "plt.plot(eje_X, sorted(y_test), color='blue', label='Reales Test')\n",
    "plt.plot(eje_X, sorted(lasso_prediction), color='green', label='Estimados Test Lasso')\n",
    "plt.legend()\n",
    "plt.title('Valores estimados vs valores reales')\n",
    "plt.xlabel('Index')\n",
    "plt.ylabel('USD Price/m2')\n",
    "plt.show()"
   ]
  },
  {
   "cell_type": "code",
   "execution_count": null,
   "id": "e9c709a5",
   "metadata": {},
   "outputs": [],
   "source": [
    "#Qué tan alejados están los valores del error cuadrático medio MSE TEST\n",
    "err_cuad_test_lasso=pow(y_test - lasso_prediction,2)\n",
    "plt.scatter(y_test,err_cuad_test_lasso, label='Error cuadrático')\n",
    "plt.plot(y_test,np.repeat(mse_test_lasso,len(err_cuad_test_lasso)), label='MSE Test Lasso', color='green')\n",
    "plt.legend()\n",
    "plt.xlabel('USD Price/m2')\n",
    "plt.ylabel('Error cuadrático')\n",
    "plt.show()"
   ]
  },
  {
   "cell_type": "code",
   "execution_count": null,
   "id": "bcc1013f",
   "metadata": {
    "scrolled": false
   },
   "outputs": [],
   "source": [
    "eje_X=range(1,len(y_train)+1)\n",
    "plt.plot(eje_X, sorted(y_train), color='blue', label='Reales Train')\n",
    "plt.plot(eje_X, sorted(lasso_prediction_train), color='green', label='Estimados Train Lasso')\n",
    "plt.legend()\n",
    "plt.title('Valores estimados vs valores reales')\n",
    "plt.xlabel('Index')\n",
    "plt.ylabel('USD Price/m2')\n",
    "plt.show()"
   ]
  },
  {
   "cell_type": "code",
   "execution_count": null,
   "id": "36ddd0ec",
   "metadata": {},
   "outputs": [],
   "source": [
    "#Qué tan alejados están los valores del error cuadrático medio MSE TRAIN\n",
    "err_cuad_train_lasso=pow(y_train - lasso_prediction_train,2)\n",
    "plt.scatter(y_train,err_cuad_train_lasso, label='Error cuadrático')\n",
    "plt.plot(y_train,np.repeat(mse_train_lasso,len(err_cuad_train_lasso)), label='MSE Train Lasso', color='green')\n",
    "plt.legend()\n",
    "plt.xlabel('USD Price/m2')\n",
    "plt.ylabel('Error cuadrático')\n",
    "plt.show()"
   ]
  },
  {
   "cell_type": "code",
   "execution_count": null,
   "id": "42dfef12",
   "metadata": {},
   "outputs": [],
   "source": [
    "#Gráfico de los residuos/errores\n",
    "model_residuals_test_lasso = y_test - lasso_prediction\n",
    "model_residuals_train_lasso = y_train-lasso_prediction_train\n",
    "\n",
    "fig, axes = plt.subplots(nrows=2, ncols=1, figsize=(15, 15))\n",
    "\n",
    "axes[0].scatter(list(range(len(y_test))), model_residuals_test_lasso,\n",
    "                   edgecolors=(0, 0, 0), alpha = 0.4, c=\"b\")\n",
    "axes[0].axhline(y = 0, linestyle = '--', color = 'black', lw=2)\n",
    "axes[0].set_title('Residuos del modelo con test', fontsize = 10, fontweight = \"bold\")\n",
    "axes[1].scatter(list(range(len(y_train))), model_residuals_train_lasso,\n",
    "                   edgecolors=(0, 0, 0), alpha = 0.4, c=\"b\")\n",
    "axes[1].axhline(y = 0, linestyle = '--', color = 'black', lw=2)\n",
    "axes[1].set_title('Residuos del modelo con train', fontsize = 10, fontweight = \"bold\")"
   ]
  },
  {
   "cell_type": "code",
   "execution_count": null,
   "id": "ce48ff0e",
   "metadata": {},
   "outputs": [],
   "source": [
    "#Histograma de residuos\n",
    "fig, (ax1,ax2) = plt.subplots(nrows=2, ncols=1, figsize=(15,14))\n",
    "\n",
    "model_residuals_test_lasso.plot(kind = \"hist\", ax=ax2, density = True, bins = 15, color=\"blue\");\n",
    "model_residuals_test_lasso.plot(kind = \"kde\",ax=ax2);\n",
    "model_residuals_train_lasso.plot(kind = \"hist\", ax=ax1, density = True, bins = 15, color=\"orange\");\n",
    "model_residuals_train_lasso.plot(kind = \"kde\",ax=ax1);\n",
    "ax1.set_title(\"Histograma de residuos para Test modelo Lasso\");\n",
    "ax2.set_title(\"Histograma de residuos para Train modelo Lasso\");"
   ]
  },
  {
   "cell_type": "markdown",
   "id": "33be7687",
   "metadata": {},
   "source": [
    "## Ridge"
   ]
  },
  {
   "cell_type": "code",
   "execution_count": null,
   "id": "480d226f",
   "metadata": {},
   "outputs": [],
   "source": [
    "#Análisis previo de los alpha\n",
    "#alphas_ridge = np.logspace(-10, 10, 400)\n",
    "alphas_ridge = np.logspace(-3, 7,400)\n",
    "ridge = linear_model.Ridge(max_iter=10000)\n",
    "coefs = []\n",
    "\n",
    "for a in alphas_ridge:\n",
    "    ridge.set_params(alpha=a)\n",
    "    ridge.fit(X_train, y_train)\n",
    "    coefs.append(ridge.coef_)\n",
    "\n",
    "ax = plt.gca()\n",
    "\n",
    "ax.plot(alphas_ridge, coefs)\n",
    "ax.set_xscale('log')\n",
    "plt.axis('tight')\n",
    "plt.xlabel('alpha')\n",
    "plt.ylabel('Coeficientes estandarizados')\n",
    "plt.title('Coeficientes Ridge como funcion de alpha');"
   ]
  },
  {
   "cell_type": "code",
   "execution_count": null,
   "id": "f1c12290",
   "metadata": {
    "scrolled": false
   },
   "outputs": [],
   "source": [
    "#Creamos el modelo\n",
    "ridgecv = linear_model.RidgeCV(alphas=alphas_ridge,normalize=False,cv=10)\n",
    "#Lo entrenamos\n",
    "model_ridge = ridgecv.fit(X_train, y_train)\n",
    "#Lo probamos\n",
    "ridge_prediction = model_ridge.predict(X_test)\n",
    "ridge_prediction_train = model_ridge.predict(X_train)\n",
    "\n",
    "alpha_ridge = model_ridge.alpha_\n",
    "coeff_ridge = model_ridge.coef_\n",
    "intercept_ridge = model_ridge.intercept_\n",
    "r2_test_ridge = model_ridge.score(X_test, y_test)\n",
    "r2_train_ridge = model_ridge.score(X_train, y_train)\n",
    "p = np.count_nonzero(coeff_ridge)\n",
    "r2_adj_test_ridge = 1-((1-r2_test_ridge)*((len(y_test)-1)/(len(y_test)-p-1)))\n",
    "r2_adj_train_ridge = 1-((1-r2_train_ridge)*((len(y_train)-1)/(len(y_train)-p-1)))\n",
    "mse_test_ridge = mean_squared_error(y_test, ridge_prediction)\n",
    "mse_train_ridge = mean_squared_error(y_train, ridge_prediction_train)\n",
    "mae_test_ridge = mean_absolute_error(y_test, ridge_prediction)\n",
    "mae_train_ridge = mean_absolute_error(y_train, ridge_prediction_train)\n",
    "rmse_test_ridge = np.sqrt(mse_test_ridge)\n",
    "rmse_train_ridge = np.sqrt(mse_train_ridge)\n",
    "\n",
    "#Valores estadísticos MSE Test, MSE Train, MAE Test, MAE Train, RMSE Test, RMSE Train, R2 Test, R2 Train, R2 Adj Test, R2 Adj Train\n",
    "stats_ridge = [mse_test_ridge, mse_train_ridge,\n",
    "                mae_test_ridge, mae_train_ridge, \n",
    "                rmse_test_ridge,rmse_train_ridge,\n",
    "                r2_test_ridge,r2_train_ridge,\n",
    "                r2_adj_test_ridge,r2_adj_train_ridge\n",
    "                ]\n",
    "\n",
    "stats_dataframe_ridge =pd.DataFrame({name_model+' Ridge':stats_ridge},index=['MSE Test', 'MSE Train', 'MAE Test', 'MAE Train', 'RMSE Test', 'RMSE Train', 'R2 Test','R2 Train', 'R2 Adj Test','R2 Adj Train'])\n",
    "stats_dataframe_ridge"
   ]
  },
  {
   "cell_type": "code",
   "execution_count": null,
   "id": "e57008dc",
   "metadata": {},
   "outputs": [],
   "source": [
    "print(\"Alpha Ridge:\",alpha_ridge)\n",
    "print(\"Intercept Ridge:\",intercept_ridge)\n",
    "print(\"Coeficientes Ridge:\")\n",
    "print(pd.Series(coeff_ridge, index=X.columns))"
   ]
  },
  {
   "cell_type": "code",
   "execution_count": null,
   "id": "cec6ced1",
   "metadata": {},
   "outputs": [],
   "source": [
    "#Gráfico de los valores vs los predecidos\n",
    "fig, axes = plt.subplots(nrows=2, ncols=1, figsize=(15, 15))\n",
    "\n",
    "axes[0].plot([i for i in range(len(y_test))],y_test, 'ro', label=\"Test Values\")\n",
    "axes[0].plot([i for i in range(len(y_test))],ridge_prediction, 'bo', label=\"Predicted Ridge values\")\n",
    "axes[0].legend()\n",
    "\n",
    "axes[1].plot([i for i in range(len(y_train))],y_train, 'ro', label=\"Train values\")\n",
    "axes[1].plot([i for i in range(len(y_train))],ridge_prediction_train, 'bo', label=\"Predicted Ridge values\")\n",
    "axes[1].legend()\n",
    "\n",
    "fig.text(0.5, 0.09, 'Item', ha='center')\n",
    "fig.text(0.08, 0.5, 'Price USD/m2', va='center', rotation='vertical')\n",
    "plt.show()"
   ]
  },
  {
   "cell_type": "code",
   "execution_count": null,
   "id": "a0b32dc5",
   "metadata": {
    "scrolled": false
   },
   "outputs": [],
   "source": [
    "eje_X=range(1,len(y_test)+1)\n",
    "plt.plot(eje_X, sorted(y_test), color='blue', label='Reales Test')\n",
    "plt.plot(eje_X, sorted(ridge_prediction), color='green', label='Estimados Test Ridge')\n",
    "plt.legend()\n",
    "plt.title('Valores estimados vs valores reales')\n",
    "plt.xlabel('Index')\n",
    "plt.ylabel('USD Price/m2')\n",
    "plt.show()"
   ]
  },
  {
   "cell_type": "code",
   "execution_count": null,
   "id": "227ae7fc",
   "metadata": {},
   "outputs": [],
   "source": [
    "#Qué tan alejados están los valores del error cuadrático medio MSE TEST\n",
    "err_cuad_test_ridge=pow(y_test - ridge_prediction,2)\n",
    "plt.scatter(y_test,err_cuad_test_ridge, label='Error cuadrático')\n",
    "plt.plot(y_test,np.repeat(mse_test_ridge,len(err_cuad_test_ridge)), label='MSE Test Ridge', color='green')\n",
    "plt.legend()\n",
    "plt.xlabel('USD Price/m2')\n",
    "plt.ylabel('Error cuadrático')\n",
    "plt.show()"
   ]
  },
  {
   "cell_type": "code",
   "execution_count": null,
   "id": "c9f67c30",
   "metadata": {
    "scrolled": false
   },
   "outputs": [],
   "source": [
    "eje_X=range(1,len(y_train)+1)\n",
    "plt.plot(eje_X, sorted(y_train), color='blue', label='Reales Train')\n",
    "plt.plot(eje_X, sorted(ridge_prediction_train), color='green', label='Estimados Train Ridge')\n",
    "plt.legend()\n",
    "plt.title('Valores estimados vs valores reales')\n",
    "plt.xlabel('Index')\n",
    "plt.ylabel('USD Price/m2')\n",
    "plt.show()"
   ]
  },
  {
   "cell_type": "code",
   "execution_count": null,
   "id": "3b7dab69",
   "metadata": {},
   "outputs": [],
   "source": [
    "#Qué tan alejados están los valores del error cuadrático medio MSE TRAIN\n",
    "err_cuad_train_ridge=pow(y_train - ridge_prediction_train,2)\n",
    "plt.scatter(y_train,err_cuad_train_ridge, label='Error cuadrático')\n",
    "plt.plot(y_train,np.repeat(mse_train_ridge,len(err_cuad_train_ridge)), label='MSE Train Ridge', color='green')\n",
    "plt.legend()\n",
    "plt.xlabel('USD Price/m2')\n",
    "plt.ylabel('Error cuadrático')\n",
    "plt.show()"
   ]
  },
  {
   "cell_type": "code",
   "execution_count": null,
   "id": "294c5054",
   "metadata": {},
   "outputs": [],
   "source": [
    "#Gráfico de los residuos/errores\n",
    "model_residuals_test_ridge = y_test - ridge_prediction\n",
    "model_residuals_train_ridge = y_train-ridge_prediction_train\n",
    "\n",
    "fig, axes = plt.subplots(nrows=2, ncols=1, figsize=(15, 15))\n",
    "\n",
    "axes[0].scatter(list(range(len(y_test))), model_residuals_test_ridge,\n",
    "                   edgecolors=(0, 0, 0), alpha = 0.4, c=\"b\")\n",
    "axes[0].axhline(y = 0, linestyle = '--', color = 'black', lw=2)\n",
    "axes[0].set_title('Residuos del modelo con test', fontsize = 10, fontweight = \"bold\")\n",
    "axes[1].scatter(list(range(len(y_train))), model_residuals_train_ridge,\n",
    "                   edgecolors=(0, 0, 0), alpha = 0.4, c=\"b\")\n",
    "axes[1].axhline(y = 0, linestyle = '--', color = 'black', lw=2)\n",
    "axes[1].set_title('Residuos del modelo con train', fontsize = 10, fontweight = \"bold\")"
   ]
  },
  {
   "cell_type": "code",
   "execution_count": null,
   "id": "2fdf4c86",
   "metadata": {},
   "outputs": [],
   "source": [
    "#Histograma de residuos\n",
    "fig, (ax1,ax2) = plt.subplots(nrows=2, ncols=1, figsize=(15,14))\n",
    "\n",
    "model_residuals_test_ridge.plot(kind = \"hist\", ax=ax2, density = True, bins = 15, color=\"blue\");\n",
    "model_residuals_test_ridge.plot(kind = \"kde\",ax=ax2);\n",
    "model_residuals_train_ridge.plot(kind = \"hist\", ax=ax1, density = True, bins = 15, color=\"orange\");\n",
    "model_residuals_train_ridge.plot(kind = \"kde\",ax=ax1);\n",
    "ax1.set_title(\"Histograma de residuos para Test modelo Ridge\");\n",
    "ax2.set_title(\"Histograma de residuos para Train modelo Ridge\");"
   ]
  },
  {
   "cell_type": "markdown",
   "id": "aad6dcf8",
   "metadata": {},
   "source": [
    "----\n",
    "## Modelos comparados entre sí"
   ]
  },
  {
   "cell_type": "code",
   "execution_count": null,
   "id": "9fa7df81",
   "metadata": {},
   "outputs": [],
   "source": [
    "plt.figure(figsize=(15, 8))\n",
    "\n",
    "plt.plot([i for i in range(len(y_test))],y_test, 'ro',label=\"Actual values\",alpha=0.5)\n",
    "plt.plot([i for i in range(len(y_test))],lr_prediction, 'ko',label=\"Predicted LinnearRegression values\",alpha=0.5)\n",
    "plt.plot([i for i in range(len(y_test))],sm_prediction, 'bo', label=\"Predicted OLS values\",alpha=0.5)\n",
    "plt.plot([i for i in range(len(y_test))],lasso_prediction, 'go', label=\"Predicted Lasso values\",alpha=0.5)\n",
    "plt.plot([i for i in range(len(y_test))],ridge_prediction, 'yo', label=\"Predicted Ridge values\",alpha=0.5)\n",
    "\n",
    "plt.legend()\n",
    "plt.ylabel('USD Price/m2')\n",
    "plt.xlabel('Item')\n",
    "plt.title(\"Test values\")\n",
    "plt.show()"
   ]
  },
  {
   "cell_type": "code",
   "execution_count": null,
   "id": "613f31c2",
   "metadata": {},
   "outputs": [],
   "source": [
    "plt.figure(figsize=(15, 8))\n",
    "\n",
    "plt.plot([i for i in range(len(y_train))],y_train, 'ro',label=\"Actual values\",alpha=0.5)\n",
    "plt.plot([i for i in range(len(y_train))],lr_prediction_train, 'ko',label=\"Predicted LinnearRegression values\",alpha=0.5)\n",
    "plt.plot([i for i in range(len(y_train))],sm_prediction_train, 'bo', label=\"Predicted OLS values\",alpha=0.5)\n",
    "plt.plot([i for i in range(len(y_train))],lasso_prediction_train, 'go', label=\"Predicted Lasso values\",alpha=0.5)\n",
    "plt.plot([i for i in range(len(y_train))],ridge_prediction_train, 'yo', label=\"Predicted Ridge values\",alpha=0.5)\n",
    "\n",
    "plt.legend()\n",
    "plt.ylabel('USD Price/m2')\n",
    "plt.xlabel('Item')\n",
    "plt.title(\"Train values\")\n",
    "plt.show()"
   ]
  },
  {
   "cell_type": "code",
   "execution_count": null,
   "id": "c9ce8364",
   "metadata": {},
   "outputs": [],
   "source": [
    "eje_X=range(1,len(y_test)+1)\n",
    "plt.plot(eje_X, sorted(y_test), color='blue', label='Reales Train')\n",
    "plt.plot(eje_X, sorted(lr_prediction), color='green', label='Estimados Test LinearRegression', alpha=0.5)\n",
    "plt.plot(eje_X, sorted(sm_prediction), color='black', label='Estimados Test OLS', alpha=0.5)\n",
    "plt.plot(eje_X, sorted(lasso_prediction), color='magenta', label='Estimados Test Lasso', alpha=0.5)\n",
    "plt.plot(eje_X, sorted(ridge_prediction), color='orange', label='Estimados Test Ridge', alpha=0.5)\n",
    "plt.legend()\n",
    "plt.title('Valores estimados vs valores reales')\n",
    "plt.xlabel('Index')\n",
    "plt.ylabel('USD Price/m2')\n",
    "plt.show()"
   ]
  },
  {
   "cell_type": "code",
   "execution_count": null,
   "id": "95621225",
   "metadata": {},
   "outputs": [],
   "source": [
    "eje_X=range(1,len(y_train)+1)\n",
    "plt.plot(eje_X, sorted(y_train), color='blue', label='Reales Train')\n",
    "plt.plot(eje_X, sorted(lr_prediction_train), color='green', label='Estimados Train LinearRegression', alpha=0.5)\n",
    "plt.plot(eje_X, sorted(sm_prediction_train), color='black', label='Estimados Train OLS', alpha=0.5)\n",
    "plt.plot(eje_X, sorted(lasso_prediction_train), color='magenta', label='Estimados Train Lasso', alpha=0.5)\n",
    "plt.plot(eje_X, sorted(ridge_prediction_train), color='orange', label='Estimados Train Ridge', alpha=0.5)\n",
    "plt.legend()\n",
    "plt.title('Valores estimados vs valores reales')\n",
    "plt.xlabel('Index')\n",
    "plt.ylabel('USD Price/m2')\n",
    "plt.show()"
   ]
  },
  {
   "cell_type": "code",
   "execution_count": null,
   "id": "d9a62d4a",
   "metadata": {},
   "outputs": [],
   "source": [
    "# Valores estadísticos\n",
    "pd.concat([stats_dataframe_lr,stats_dataframe_ols,stats_dataframe_lasso,stats_dataframe_ridge],axis=1)"
   ]
  },
  {
   "cell_type": "code",
   "execution_count": null,
   "id": "bca77948",
   "metadata": {
    "scrolled": false
   },
   "outputs": [],
   "source": [
    "# Parámetros\n",
    "index_series = np.insert(X.columns.to_numpy(),0,'intercept')\n",
    "series_lr = pd.Series(np.insert(coeff_lr,0,model_lr.intercept_),index=index_series, name=\"Linear Regression\")\n",
    "series_ols = pd.Series(model_ols.params.to_numpy(),index=index_series, name=\"OLS\")\n",
    "series_lasso = pd.Series(np.insert(coeff_lasso,0,model_lasso.intercept_),index=index_series, name=\"Lasso\")\n",
    "series_ridge = pd.Series(np.insert(coeff_ridge,0,model_ridge.intercept_),index=index_series, name=\"Lasso\")\n",
    "\n",
    "pd.set_option('display.max_rows', 500)\n",
    "pd.concat([series_lr,series_ols,series_lasso,series_ridge],axis=1)"
   ]
  }
 ],
 "metadata": {
  "kernelspec": {
   "display_name": "Python [conda env:dsdh22] *",
   "language": "python",
   "name": "conda-env-dsdh22-py"
  },
  "language_info": {
   "codemirror_mode": {
    "name": "ipython",
    "version": 3
   },
   "file_extension": ".py",
   "mimetype": "text/x-python",
   "name": "python",
   "nbconvert_exporter": "python",
   "pygments_lexer": "ipython3",
   "version": "3.8.13"
  }
 },
 "nbformat": 4,
 "nbformat_minor": 5
}
