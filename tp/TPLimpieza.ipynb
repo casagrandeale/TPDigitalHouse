{
 "cells": [
  {
   "cell_type": "code",
   "execution_count": null,
   "id": "7326a87f",
   "metadata": {},
   "outputs": [],
   "source": [
    "#Agregamos las librerías necesarias\n",
    "import pandas as pd\n",
    "import numpy as np\n",
    "import re\n",
    "import matplotlib.pyplot as plt\n",
    "import plotly as pl\n",
    "import plotly.express as px\n",
    "from plotly.subplots import make_subplots\n",
    "import plotly.graph_objects as go\n",
    "from geomet import wkt\n",
    "from shapely import wkt as shpwkt, geometry\n",
    "from shapely.geometry import mapping, Point, Polygon\n",
    "import seaborn as sns\n",
    "\n",
    "%matplotlib inline"
   ]
  },
  {
   "cell_type": "markdown",
   "id": "5732c3a8",
   "metadata": {},
   "source": [
    "---\n",
    "# Inicio"
   ]
  },
  {
   "cell_type": "code",
   "execution_count": null,
   "id": "ea7ee84d",
   "metadata": {
    "scrolled": true
   },
   "outputs": [],
   "source": [
    "#Cargamos los datos y vemos los primeros registros\n",
    "data = pd.read_csv('data/properatti.csv')\n",
    "data.head(5)"
   ]
  },
  {
   "cell_type": "code",
   "execution_count": null,
   "id": "d66b216f",
   "metadata": {},
   "outputs": [],
   "source": [
    "''' Vemos las columnas '''\n",
    "\n",
    "data.info(verbose=True,null_counts=True)"
   ]
  },
  {
   "cell_type": "code",
   "execution_count": null,
   "id": "2df95bc0",
   "metadata": {},
   "outputs": [],
   "source": [
    "registros_pre_capital = data.shape[0]\n",
    "print(\"Cantidad de registros del dataset:\",registros_pre_capital)"
   ]
  },
  {
   "cell_type": "markdown",
   "id": "1f182858",
   "metadata": {},
   "source": [
    "---\n",
    "Eliminamos las columnas que no aportan informacion, como operation es sell la quitamos, expensas también no aporta información y es un dato que nunca se completa correctamente, country son todos de argentina no aporta nada. Image_thumbnail no aporta información ni la dirección url"
   ]
  },
  {
   "cell_type": "code",
   "execution_count": null,
   "id": "b7e48cfc",
   "metadata": {},
   "outputs": [],
   "source": [
    "data = data.drop(['Unnamed: 0','operation','country_name','expenses','image_thumbnail', 'properati_url'], axis=1)"
   ]
  },
  {
   "cell_type": "markdown",
   "id": "238e9cda",
   "metadata": {},
   "source": [
    "---\n",
    "# Redimensión del Dataset\n",
    "### Achicamos el dataset a Capital Federal\n",
    "\n",
    "#### Rellenamos los nulls para place_name"
   ]
  },
  {
   "cell_type": "code",
   "execution_count": null,
   "id": "fc02bca0",
   "metadata": {},
   "outputs": [],
   "source": [
    "print(\"Place names null antes: \", data.place_name.isnull().sum())\n",
    "\n",
    "''' completar los places names '''\n",
    "data.loc[data.place_name.isnull(),'place_name'] = data.loc[data.place_name.isnull()].place_with_parent_names.str.split('|', expand=True)[3]\n",
    "\n",
    "#Relleno manualmente un dato que está suelto\n",
    "mask=(data.place_name=='coordenadas 34.255511')\n",
    "data.loc[mask,'place_name'] = 'Rincón de Milberg'\n",
    "\n",
    "'''place names nulls despues de completar'''\n",
    "\n",
    "print(\"Place names null después: \", data.place_name.isnull().sum())"
   ]
  },
  {
   "cell_type": "markdown",
   "id": "24b27ee3",
   "metadata": {},
   "source": [
    "#### Cargamos el dataset del gobierno de la ciudad con los puntos WKT"
   ]
  },
  {
   "cell_type": "code",
   "execution_count": null,
   "id": "f392db20",
   "metadata": {},
   "outputs": [],
   "source": [
    "gcba = pd.read_csv('./data/barrios.csv')\n",
    "\n",
    "#Convertimos los puntos WKT a Polygon con shapely\n",
    "gcba[\"WKT\"] = gcba[\"WKT\"].apply(shpwkt.loads)\n",
    "gcba.head(3)"
   ]
  },
  {
   "cell_type": "code",
   "execution_count": null,
   "id": "5112cda1",
   "metadata": {},
   "outputs": [],
   "source": [
    "#Achico el dataset quedándome solamente con aquellas filas que tengan place name o state name Capital Federal\n",
    "data=data.loc[(data.state_name=='Capital Federal') | (data.place_name=='Capital Federal')]\n",
    "\n",
    "#Elimino las filas que no tenga valores lat o lon\n",
    "data=data.drop(data[(data['lat'].isnull()) | (data['lon'].isnull())].index)\n",
    "\n",
    "#Reseteo el index\n",
    "data.reset_index(inplace=True, drop=True)\n",
    "#Agrego la columna Point para cada valor lat-lon\n",
    "data['Point'] = data.apply(lambda x: Point(x['lon'], x['lat']), axis=1)\n",
    "\n",
    "data.head(3)"
   ]
  },
  {
   "cell_type": "code",
   "execution_count": null,
   "id": "2fa92326",
   "metadata": {},
   "outputs": [],
   "source": [
    "#Creo una columna donde tengo los barrios normalizados que me trae el nombre del barrio siguiendo el valor del dataset del gcba\n",
    "def returnBarrio(point):\n",
    "    try:\n",
    "        return gcba['BARRIO'].loc[[i for i,wkt in enumerate(gcba.WKT) if wkt.contains(point)][0]]\n",
    "    except:\n",
    "        return np.nan\n",
    "\n",
    "data['place_name_normalized'] = data.Point.apply(returnBarrio)\n",
    "data.head(3)"
   ]
  },
  {
   "cell_type": "code",
   "execution_count": null,
   "id": "923f622d",
   "metadata": {},
   "outputs": [],
   "source": [
    "#Borro todos aquellos que tengan NaN en la columna place_name_normalized\n",
    "#Elimino las filas que no tenga valores lat o lon\n",
    "data=data.drop(data[(data['place_name_normalized'].isnull())].index)\n",
    "\n",
    "#Reseteo el index\n",
    "data.reset_index(inplace=True, drop=True)\n",
    "data.head(3)"
   ]
  },
  {
   "cell_type": "code",
   "execution_count": null,
   "id": "8c99baee",
   "metadata": {},
   "outputs": [],
   "source": [
    "print(\"Cantidad de registros del dataset:\",registros_pre_capital)\n",
    "cantidad_de_registros_capital_completo = data.shape[0]\n",
    "print(\"Cantidad de registros solo de capital federal:\",cantidad_de_registros_capital_completo)"
   ]
  },
  {
   "cell_type": "code",
   "execution_count": null,
   "id": "c06af0dd",
   "metadata": {
    "scrolled": true
   },
   "outputs": [],
   "source": [
    "nulls = pd.DataFrame({'Columna':data.columns, 'Nulos':data.isnull().sum(),'No nulos':data.notnull().sum()})\n",
    "\n",
    "# plot a Stacked Bar Chart using matplotlib\n",
    "nulls.plot(\n",
    "  x = 'Columna', \n",
    "  kind = 'barh', \n",
    "  stacked = True, \n",
    "  title = 'Nulos por columna', \n",
    "  mark_right = True)"
   ]
  },
  {
   "cell_type": "markdown",
   "id": "7133f2d3",
   "metadata": {},
   "source": [
    "---\n",
    "# Relleno de nulls"
   ]
  },
  {
   "cell_type": "markdown",
   "id": "aeab3fcc",
   "metadata": {},
   "source": [
    "### Currency"
   ]
  },
  {
   "cell_type": "code",
   "execution_count": null,
   "id": "aa36dbfd",
   "metadata": {},
   "outputs": [],
   "source": [
    "#Revisamos en que moneda se encuentran expresadas las propiedades\n",
    "data.currency.value_counts()"
   ]
  },
  {
   "cell_type": "code",
   "execution_count": null,
   "id": "669687f1",
   "metadata": {
    "scrolled": false
   },
   "outputs": [],
   "source": [
    "#Chequeo anterior de nulos\n",
    "print('Price aprox usd nulls antes: ',data.price_aprox_usd.isnull().sum())\n",
    "\n",
    "#Extraemos de las descripciones los montos en dólares para completar dólares\n",
    "patron = r'(\\bU\\$S|usd|uss|dól|dol)(\\s)*(?P<miles>\\d+)(\\.)?(?P<unidades>\\d*)'\n",
    "\n",
    "#Guardamos los valores y lo asignamos en la columna price_aprox_usd\n",
    "p_dls = data.loc[data.price_aprox_usd.isnull()].description.str.extract(patron, flags= re.IGNORECASE, expand = False)\n",
    "p_dls['miles'] = pd.to_numeric(p_dls['miles'], errors= 'coerce')\n",
    "p_dls['unidades'] = pd.to_numeric(p_dls['unidades'], errors= 'coerce')\n",
    "data.loc[data.price_aprox_usd.isnull(),'price_aprox_usd'] = p_dls['miles']*1000 + p_dls['unidades']\n",
    "\n",
    "#Chequeo posterior de nulos\n",
    "print('Price aprox usd nulls después: ',data.price_aprox_usd.isnull().sum())"
   ]
  },
  {
   "cell_type": "code",
   "execution_count": null,
   "id": "0ddb6fcd",
   "metadata": {},
   "outputs": [],
   "source": [
    "#Extraemos de los títulos los montos en dólares para completar dólares\n",
    "p_dls = data.loc[data.price_aprox_usd.isnull()].title.str.extract(patron, flags= re.IGNORECASE, expand = False)\n",
    "p_dls['miles'] = pd.to_numeric(p_dls['miles'], errors= 'coerce')\n",
    "p_dls['unidades'] = pd.to_numeric(p_dls['unidades'], errors= 'coerce')\n",
    "data.loc[data.price_aprox_usd.isnull(),'price_aprox_usd'] = p_dls['miles']*1000 + p_dls['unidades']\n",
    "\n",
    "#Chequeo posterior de nulos\n",
    "print('Price aprox usd nulls después: ',data.price_aprox_usd.isnull().sum())"
   ]
  },
  {
   "cell_type": "code",
   "execution_count": null,
   "id": "c5db882f",
   "metadata": {},
   "outputs": [],
   "source": [
    "#Exploramos las columnas de los precios para ver si hay datos no nulos\n",
    "\n",
    "data.loc[data['price_aprox_usd'].isna()].loc[:,['price','price_aprox_local_currency','price_usd_per_m2','price_per_m2']].isna().sum()"
   ]
  },
  {
   "cell_type": "code",
   "execution_count": null,
   "id": "73ff8bd1",
   "metadata": {},
   "outputs": [],
   "source": [
    "#Quitamos los precios nulos\n",
    "\n",
    "data = data.drop(data[data['price_aprox_usd'].isna()].index)\n",
    "data.isnull().sum()"
   ]
  },
  {
   "cell_type": "markdown",
   "id": "63061671",
   "metadata": {},
   "source": [
    "### Rooms"
   ]
  },
  {
   "cell_type": "code",
   "execution_count": null,
   "id": "b22d0608",
   "metadata": {},
   "outputs": [],
   "source": [
    "#Rooms nulos antes\n",
    "print('Nulos antes: ',data.rooms.isnull().sum())\n",
    "\n",
    "#Relleno con patron regex según la palabra ambiente\n",
    "patron = '((?P<numero>\\d|mono|dos|tres|cuatro|cinco|seis)\\s*(?P<ambiente>amb))'\n",
    "patron_regex = re.compile(patron,flags = re.IGNORECASE)\n",
    "\n",
    "def convertRoomFromAmbiente(row):  \n",
    "    try:\n",
    "        resultado=None\n",
    "        ambientes=0\n",
    "        if (row['description'] and isinstance(row['description'],str)):\n",
    "            resultado = patron_regex.search(row['description'])\n",
    "        if ((resultado is None) and row['title'] and isinstance(row['title'],str)):\n",
    "            resultado = patron_regex.search(row['title'])\n",
    "        if (resultado is not None):\n",
    "            if (resultado.group('numero2').lower()=='un'):\n",
    "                ambientes+=1\n",
    "            elif(resultado.group('numero2').lower()=='dos'):\n",
    "                ambientes+=2\n",
    "            elif(resultado.group('numero2').lower()=='tres'):\n",
    "                ambientes+=3\n",
    "            elif(resultado.group('numero2').lower()=='cuatro'):\n",
    "                ambientes+=4\n",
    "            elif(resultado.group('numero2').lower()=='cinco'):\n",
    "                ambientes+=5\n",
    "            elif(resultado.group('numero2').lower()=='seis'):\n",
    "                ambientes+=6\n",
    "            else:\n",
    "                ambientes=int(resultado.group('numero'))\n",
    "        return ambientes\n",
    "    except:\n",
    "        return np.nan\n",
    "        \n",
    "data.loc[data.rooms.isnull(),'rooms'] = data.loc[data.rooms.isnull()].apply(convertRoomFromAmbiente,axis=1)\n",
    "\n",
    "#Relleno con patron regex según la palabra dormitorio o habitación\n",
    "patron = '\"((?P<numero>\\d|un|dos|tres|cuatro|cinco|seis)(\\s\\w+)?\\s(?P<dormitorios>dorm|hab|HAB|Hab))\"'\n",
    "patron_dormhab = re.compile(patron,flags = re.IGNORECASE)\n",
    "\n",
    "def convertRoomFromDormHab(row):\n",
    "    resultado = None\n",
    "    if (row['description'] and isinstance(row['description'],str)):\n",
    "        resultado = patron_dormhab.finditer(row['description'])\n",
    "    if ((resultado is None) and row['title'] and isinstance(row['title'],str)):\n",
    "        resultado = patron_dormhab.finditer(row['description'])\n",
    "    if not(resultado is None):\n",
    "        dormitorios=0\n",
    "        for m in resultado:\n",
    "            if m.group('numero') is None:\n",
    "                dormitorios=np.nan\n",
    "            else:\n",
    "                if(m.group('numero').lower()=='un'):\n",
    "                    dormitorios+=1\n",
    "                elif(m.group('numero').lower()=='dos'):\n",
    "                    dormitorios+=2\n",
    "                elif(m.group('numero').lower()=='tres'):\n",
    "                    dormitorios+=3\n",
    "                elif(m.group('numero').lower()=='cuatro'):\n",
    "                    dormitorios+=4\n",
    "                elif(m.group('numero').lower()=='cinco'):\n",
    "                    dormitorios+=5\n",
    "                elif(m.group('numero').lower()=='seis'):\n",
    "                    dormitorios+=6\n",
    "                else:\n",
    "                    dormitorios+=int(m.group('numero'))\n",
    "    if not(np.isnan(dormitorios)) and dormitorios>0:\n",
    "        return dormitorios\n",
    "    else:\n",
    "        return np.nan\n",
    "\n",
    "data.loc[data.rooms.isnull(),'rooms'] = data.loc[data.rooms.isnull()].apply(convertRoomFromDormHab,axis=1)\n",
    "\n",
    "#Rooms nulos despues de limpiar\n",
    "print('Nulos después: ',data.rooms.isnull().sum())"
   ]
  },
  {
   "cell_type": "markdown",
   "id": "9afed6b4",
   "metadata": {},
   "source": [
    "### Piso\n",
    "Para los departamentos"
   ]
  },
  {
   "cell_type": "code",
   "execution_count": null,
   "id": "ad9678d3",
   "metadata": {},
   "outputs": [],
   "source": [
    "#Cuantos departamentos tienen el piso en null\n",
    "len(data.loc[(data.property_type == 'apartment') & (data.floor.isnull())].index)"
   ]
  },
  {
   "cell_type": "code",
   "execution_count": null,
   "id": "7b31d4fb",
   "metadata": {},
   "outputs": [],
   "source": [
    "patron_floor = re.compile(\"(?P<piso0>planta baja|PB)|(?P<piso1>1er piso|primer piso|piso 1|1º piso|piso 1º)|(?P<piso2>2do piso|segundo piso|piso 2|2º piso|piso 2º)|(?P<piso3>3er piso|tercer piso|piso 3|3º piso|piso 3º)|(?P<piso4>4to piso|cuarto piso|piso 4|4º piso|piso 4º)|(?P<piso5>5to piso|quinto piso|piso 5|5º piso|piso 5º)|(?P<piso6>6to piso|sexto piso|piso 6|6º piso|piso 6º)|(?P<piso7>7to piso|séptimo piso|piso 7|7º piso|piso 7º)|(?P<piso8>8vo piso|octavo piso|piso 8|8º piso|piso 8º)|(?P<piso9>9no piso|noveno piso|piso 9|9º piso|piso 9º)|(?P<piso10>10mo piso|décimo piso|piso 10|10º piso|piso 10º)|(?P<piso11>11vo piso|onceavo piso|piso 11|11º piso|piso 11º)|(?P<piso12>12vo piso|doceavo piso|piso 12|12º piso|piso 12º)|(?P<piso13>13vo piso|treceavo piso|piso 13|13º piso|piso 13º)|(?P<piso14>14vo piso|cartoceavo piso|piso 14|14º piso|piso 14º)|(?P<piso15>15vo piso|quinceavo piso|piso 15|15º piso|piso 15º)|(?P<piso16>16to piso|decimosexto piso|piso 16|16º piso|piso 16º)|(?P<piso17>17to piso|decimoséptimo piso|piso 17|17º piso|piso 17º)|(?P<piso18>18vo piso|decimooctavo piso|piso 18|18º piso|piso 18º)|(?P<piso19>19vo piso|decimonoveno piso|piso 19|19º piso|piso 19º)|(?P<piso20>20to piso|vigésimo piso|piso 20|20º piso|piso 20º)\",flags = re.IGNORECASE)\n",
    "\n",
    "def extractFloor(row):\n",
    "    match = None\n",
    "    if (row['description'] and isinstance(row['description'],str) ):\n",
    "        match = patron_floor.search(row['description'])\n",
    "    if (match is None) and row['title'] and isinstance(row['title'],str):\n",
    "        match = patron_floor.search(row['title'])\n",
    "    if match is None:\n",
    "        return np.nan\n",
    "    elif match.group('piso0') is not None:\n",
    "        return 0.0\n",
    "    elif match.group('piso1') is not None:\n",
    "        return 1.0\n",
    "    elif match.group('piso2') is not None:\n",
    "        return 2.0\n",
    "    elif match.group('piso3') is not None:\n",
    "        return 3.0\n",
    "    elif match.group('piso4') is not None:\n",
    "        return 4.0\n",
    "    elif match.group('piso5') is not None:\n",
    "        return 5.0\n",
    "    elif match.group('piso6') is not None:\n",
    "        return 6.0\n",
    "    elif match.group('piso7') is not None:\n",
    "        return 7.0\n",
    "    elif match.group('piso8') is not None:\n",
    "        return 8.0\n",
    "    elif match.group('piso9') is not None:\n",
    "        return 9.0\n",
    "    elif match.group('piso10') is not None:\n",
    "        return 10.0\n",
    "    elif match.group('piso11') is not None:\n",
    "        return 11.0\n",
    "    elif match.group('piso12') is not None:\n",
    "        return 12.0\n",
    "    elif match.group('piso13') is not None:\n",
    "        return 13.0\n",
    "    elif match.group('piso14') is not None:\n",
    "        return 14.0\n",
    "    elif match.group('piso15') is not None:\n",
    "        return 15.0\n",
    "    elif match.group('piso16') is not None:\n",
    "        return 16.0\n",
    "    elif match.group('piso17') is not None:\n",
    "        return 17.0\n",
    "    elif match.group('piso18') is not None:\n",
    "        return 18.0\n",
    "    elif match.group('piso19') is not None:\n",
    "        return 19.0\n",
    "    elif match.group('piso20') is not None:\n",
    "        return 20.0\n",
    "    else:\n",
    "        return np.nan\n",
    "\n",
    "data.loc[(data.property_type == 'apartment') & (data.floor.isnull()),'floor'] = data.loc[(data.property_type == 'apartment') & (data.floor.isnull())].apply(lambda x: extractFloor(x),axis =1)\n",
    "\n",
    "#Cuantos departamentos tienen el piso en null\n",
    "len(data.loc[(data.property_type == 'apartment') & (data.floor.isnull())].index)"
   ]
  },
  {
   "cell_type": "code",
   "execution_count": null,
   "id": "fcc19236",
   "metadata": {},
   "outputs": [],
   "source": [
    "data.rooms.value_counts()"
   ]
  },
  {
   "cell_type": "markdown",
   "id": "3d4d2a0f",
   "metadata": {},
   "source": [
    "### Superficie"
   ]
  },
  {
   "cell_type": "code",
   "execution_count": null,
   "id": "6c9d381e",
   "metadata": {},
   "outputs": [],
   "source": [
    "#Completamos ambas columnas de superficie\n",
    "print(\"Antes\")\n",
    "print(\"surface_covered_in_m2 nulos:\",data['surface_covered_in_m2'].isnull().sum())\n",
    "print(\"surface_total_in_m2 nulos:\",data['surface_total_in_m2'].isnull().sum()) \n",
    "\n",
    "data.loc[data.surface_covered_in_m2 > data.surface_total_in_m2,'surface_total_in_m2'] = data.loc[data.surface_covered_in_m2 > data.surface_total_in_m2,'surface_covered_in_m2']\n",
    "\n",
    "data['surface_covered_in_m2'] = data['surface_covered_in_m2'].fillna(data['surface_total_in_m2'])\n",
    "data['surface_total_in_m2'] = data['surface_total_in_m2'].fillna(data['surface_covered_in_m2'])\n",
    "\n",
    "#Aquellas superficies totales menores a 10 m2 lo consideramos nulo\n",
    "data.loc[data.surface_total_in_m2 < 5,'surface_total_in_m2'] = np.NaN"
   ]
  },
  {
   "cell_type": "code",
   "execution_count": null,
   "id": "f466b01c",
   "metadata": {},
   "outputs": [],
   "source": [
    "print('Nulls antes para surface_total_in_m2: ',data.surface_total_in_m2.isnull().sum())\n",
    "\n",
    "patron_meters = re.compile(\"(?P<Metros>\\d+)(?P<tipo>metro|\\smetro|mts|\\smts|m2|\\sm2)\",flags = re.IGNORECASE)\n",
    "\n",
    "def extractMeters(row):\n",
    "    meters_match = None\n",
    "    if ( row['description'] and isinstance(row['description'],str) ):\n",
    "        meters_match = patron_meters.search(row['description'])\n",
    "    if ((meters_match is None) and row['title'] and isinstance(row['title'],str)):\n",
    "        meters_match = patron_meters.search(row['title'])\n",
    "    if (meters_match is not None):\n",
    "        return meters_match.groups()[0]\n",
    "    return None\n",
    "\n",
    "data.loc[data.surface_total_in_m2.isnull(),'surface_total_in_m2'] = data.loc[data.surface_total_in_m2.isnull()].apply(extractMeters,axis=1)\n",
    "\n",
    "data.loc[data.surface_total_in_m2.isnull() & data.surface_covered_in_m2.notnull(),'surface_total_in_m2'] = data.loc[data.surface_total_in_m2.isnull() & data.surface_covered_in_m2.notnull()].apply(lambda x: x['surface_covered_in_m2'],axis=1)\n",
    "\n",
    "data.loc[data.surface_total_in_m2.isnull(),'surface_total_in_m2'] = data.loc[data.surface_total_in_m2.isnull()].surface_total_in_m2.fillna(value=np.nan)\n",
    "data.loc[:,'surface_total_in_m2'] = data.loc[:,'surface_total_in_m2'].astype(\"float\")\n",
    "\n",
    "''' cuantos quedaron'''\n",
    "print('Nulls después para surface_total_in_m2: ',data.surface_total_in_m2.isnull().sum())"
   ]
  },
  {
   "cell_type": "code",
   "execution_count": null,
   "id": "7a62cc0a",
   "metadata": {},
   "outputs": [],
   "source": [
    "data.loc[data.surface_total_in_m2 < 5,'surface_total_in_m2'] = np.NaN\n",
    "data.surface_total_in_m2.isnull().sum()"
   ]
  },
  {
   "cell_type": "code",
   "execution_count": null,
   "id": "91721c43",
   "metadata": {
    "scrolled": true
   },
   "outputs": [],
   "source": [
    "#Completamos la columna price usd per m2 para los valores que rellenamos\n",
    "data.loc[data.surface_total_in_m2.notnull() & data.price_aprox_usd.notnull() & data.price_usd_per_m2.isnull() & data.surface_total_in_m2 > 0,'price_usd_per_m2'] = data.loc[data.surface_total_in_m2.notnull() & data.price_aprox_usd.notnull() & data.price_usd_per_m2.isnull() & data.surface_total_in_m2 > 0].apply(lambda x: x['price_aprox_usd'] / x['surface_total_in_m2'],axis=1)\n",
    "\n",
    "data.isnull().sum()"
   ]
  },
  {
   "cell_type": "markdown",
   "id": "c4aa49e3",
   "metadata": {},
   "source": [
    "---\n",
    "# Nuevas columnas\n",
    "### Columna disposición\n",
    "Creamos la columna disposición del departamento obtenida a traves de las descripciones o los títulos"
   ]
  },
  {
   "cell_type": "code",
   "execution_count": null,
   "id": "5da95647",
   "metadata": {},
   "outputs": [],
   "source": [
    "#Columna disposicion del departamento\n",
    "\n",
    "patron_disposicion = re.compile(\"(?P<tipo>frente|lateral|contrafrente)\",flags = re.IGNORECASE)\n",
    "\n",
    "def disposicion(row):\n",
    "    disposicion_match = None\n",
    "    if ( row['description'] and isinstance(row['description'],str) ): \n",
    "        disposicion_match = patron_disposicion.search(row['description'])\n",
    "    if ((patron_disposicion is None) and row['title'] and isinstance(row['title'],str)):\n",
    "        disposicion_match = patron_disposicion.search(row['title'])\n",
    "    if (disposicion_match is not None):\n",
    "        return disposicion_match.groups()[0].lower()\n",
    "    return None\n",
    "\n",
    "data['disposicion'] = data.apply(lambda x:disposicion(x),axis = 1)\n",
    "print(data['disposicion'].value_counts())\n",
    "print(\"Total dataset:\",data.shape[0])"
   ]
  },
  {
   "cell_type": "markdown",
   "id": "e325e1c8",
   "metadata": {},
   "source": [
    "### Columna A Estrenar\n",
    "Creamos la columna A Estrenar obtenida a través de las descripciones o los títulos"
   ]
  },
  {
   "cell_type": "code",
   "execution_count": null,
   "id": "38f2883e",
   "metadata": {},
   "outputs": [],
   "source": [
    "#Columna a estrenar\n",
    "patron_a_estrenar = re.compile(\"(?P<tipo>estrenar)\",flags = re.IGNORECASE)\n",
    "\n",
    "def aestrenar(row):\n",
    "    try:\n",
    "        if (row['description'] and isinstance(row['description'],str) ):\n",
    "            if (patron_a_estrenar.search(row['description']).group('tipo') is not None):\n",
    "                return True\n",
    "        if (row['title'] and isinstance(row['title'],str) ):\n",
    "            if (patron_a_estrenar.search(row['title']).group('tipo') is not None):\n",
    "                return True\n",
    "    except:\n",
    "        return False\n",
    "\n",
    "data['aAstrenar'] = data.apply(lambda x:aestrenar(x),axis = 1);\n",
    "data['aAstrenar'].value_counts()"
   ]
  },
  {
   "cell_type": "code",
   "execution_count": null,
   "id": "00b26d1d",
   "metadata": {},
   "outputs": [],
   "source": [
    "print(\"Cantidad de registros del dataset:\",registros_pre_capital)\n",
    "print(\"Cantidad de registros solo de capital federal:\",cantidad_de_registros_capital_completo)\n",
    "print(\"Cantidad de registros solo de capital federal luego de rellenar y filtrar:\",data.shape[0])"
   ]
  },
  {
   "cell_type": "markdown",
   "id": "cbd296a9",
   "metadata": {},
   "source": [
    "---\n",
    "# Análisis"
   ]
  },
  {
   "cell_type": "code",
   "execution_count": null,
   "id": "bfb00947",
   "metadata": {},
   "outputs": [],
   "source": [
    "pd.options.display.float_format = '{:.2f}'.format"
   ]
  },
  {
   "cell_type": "code",
   "execution_count": null,
   "id": "b571eeb2",
   "metadata": {},
   "outputs": [],
   "source": [
    "data.describe()"
   ]
  },
  {
   "cell_type": "markdown",
   "id": "0c6d57d6",
   "metadata": {},
   "source": [
    "## Outliers mediante Boxplot"
   ]
  },
  {
   "cell_type": "code",
   "execution_count": null,
   "id": "c55c66d1",
   "metadata": {},
   "outputs": [],
   "source": [
    "#Analizamos outliers mediante boxplot\n",
    "sns.set_theme(style=\"whitegrid\")\n",
    "plt.figure(figsize=(15,12))\n",
    "sns.boxplot(data=data, x=\"price_aprox_usd\", y=\"property_type\", orient=\"h\")\n",
    "plt.show()"
   ]
  },
  {
   "cell_type": "code",
   "execution_count": null,
   "id": "fa6eb843",
   "metadata": {},
   "outputs": [],
   "source": [
    "plt.figure(figsize=(15,12))\n",
    "sns.boxplot(data=data, x=\"price_usd_per_m2\", y=\"property_type\", orient=\"h\")\n",
    "plt.show()"
   ]
  },
  {
   "cell_type": "code",
   "execution_count": null,
   "id": "fe906b92",
   "metadata": {},
   "outputs": [],
   "source": [
    "plt.figure(figsize=(15,12))\n",
    "sns.boxplot(data=data, x=\"surface_total_in_m2\", y=\"property_type\", orient=\"h\")\n",
    "plt.show()"
   ]
  },
  {
   "cell_type": "code",
   "execution_count": null,
   "id": "af52e4a4",
   "metadata": {},
   "outputs": [],
   "source": [
    "def is_outlier(s, quantiles=[.25, .75], thresholds=[-1.5, 1.5]):\n",
    "    # change the thresholds to [-1.5, 1.5] to reflect IQR as per your question\n",
    "    a, b = s.quantile(quantiles)\n",
    "    iqr = b - a\n",
    "    lo, hi = np.array(thresholds) * iqr + [a, b]\n",
    "    if(lo<s.min()):\n",
    "        lo=s.min()\n",
    "    if(hi>s.max()):\n",
    "        hi=s.max()\n",
    "    return (s < lo) | (s > hi)\n",
    "\n",
    "mask = data.groupby('property_type')['surface_total_in_m2'].apply(is_outlier)\n",
    "test1 = data.loc[~mask]\n",
    "\n",
    "plt.figure(figsize=(15,12))\n",
    "sns.boxplot(data=test1, x=\"surface_total_in_m2\", y=\"property_type\", orient=\"h\")\n",
    "plt.show()"
   ]
  },
  {
   "cell_type": "code",
   "execution_count": null,
   "id": "403b4ae1",
   "metadata": {},
   "outputs": [],
   "source": [
    "test2=data[data.groupby(\"property_type\").price_usd_per_m2.\\\n",
    "      transform(lambda x : (x<x.quantile(0.957))&(x>(x.quantile(0.05)))).eq(1)]\n",
    "plt.figure(figsize=(15,12))\n",
    "sns.boxplot(data=test2, x=\"price_usd_per_m2\", y=\"property_type\", orient=\"h\")\n",
    "plt.show()"
   ]
  },
  {
   "cell_type": "code",
   "execution_count": null,
   "id": "2e0de0bd",
   "metadata": {},
   "outputs": [],
   "source": [
    "def is_outlier(s, quantiles=[.25, .75], thresholds=[-1.5, 1.5]):\n",
    "    # change the thresholds to [-1.5, 1.5] to reflect IQR as per your question\n",
    "    a, b = s.quantile(quantiles)\n",
    "    iqr = b - a\n",
    "    lo, hi = np.array(thresholds) * iqr + [a, b]\n",
    "    if(lo<s.min()):\n",
    "        lo=s.min()\n",
    "    if(hi>s.max()):\n",
    "        hi=s.max()\n",
    "    return (s < lo) | (s > hi)\n",
    "\n",
    "mask = data.groupby('property_type')['price_usd_per_m2'].apply(is_outlier)\n",
    "test3 = data.loc[~mask]\n",
    "\n",
    "plt.figure(figsize=(15,12))\n",
    "sns.boxplot(data=test3, x=\"price_usd_per_m2\", y=\"property_type\", orient=\"h\")\n",
    "plt.show()"
   ]
  },
  {
   "cell_type": "code",
   "execution_count": null,
   "id": "af13e6e6",
   "metadata": {},
   "outputs": [],
   "source": [
    "data.loc[data.price_usd_per_m2 > 10000,'price_usd_per_m2'] = np.NaN\n",
    "\n",
    "#Quitamos los que tienen 3 desvios de la media\n",
    "data.loc[data['price_usd_per_m2']>=(data['price_usd_per_m2'].mean() + 3*data['price_usd_per_m2'].std()),'price_usd_per_m2'] = np.NaN\n",
    "data.loc[data['price_aprox_usd']>=(data['price_aprox_usd'].mean() + 3*data['price_aprox_usd'].std()),'price_aprox_usd'] = np.NaN\n",
    "data.loc[data['surface_total_in_m2']>=(data['surface_total_in_m2'].mean() + 3*data['surface_total_in_m2'].std()),'surface_total_in_m2'] = np.NaN\n",
    "# intentamos completar con los otros campos'''\n",
    "data.loc[data.surface_total_in_m2.notnull() & data.price_aprox_usd.notnull() & data.price_usd_per_m2.isnull() & data.surface_total_in_m2 > 0,'price_usd_per_m2'] = data.loc[data.surface_total_in_m2.notnull() & data.price_aprox_usd.notnull() & data.price_usd_per_m2.isnull() & data.surface_total_in_m2 > 0].apply(lambda x: x['price_aprox_usd'] / x['surface_total_in_m2'],axis=1)\n",
    "data.loc[data.surface_total_in_m2.notnull() & data.price_aprox_usd.isnull() & data.price_usd_per_m2.notnull() & data.surface_total_in_m2 > 0,'price_aprox_usd'] = data.loc[data.surface_total_in_m2.notnull() & data.price_aprox_usd.isnull() & data.price_usd_per_m2.notnull() & data.surface_total_in_m2 > 0].apply(lambda x: x['price_usd_per_m2'] * x['surface_total_in_m2'],axis=1)\n",
    "data.loc[data.surface_total_in_m2.isnull() & data.price_aprox_usd.notnull() & data.price_usd_per_m2.notnull() & data.price_usd_per_m2 > 0,'surface_total_in_m2'] = data.loc[data.surface_total_in_m2.isnull() & data.price_aprox_usd.notnull() & data.price_usd_per_m2.notnull() & data.price_usd_per_m2 > 0].apply(lambda x: x['price_aprox_usd'] / x['price_usd_per_m2'],axis=1)\n",
    "\n",
    "#quitamos los registros sin info relevante\n",
    "columnsUtils = ['surface_total_in_m2','price_aprox_usd', 'price_usd_per_m2']\n",
    "\n",
    "data = data.dropna(axis =0 , how = 'any', subset = columnsUtils)\n",
    "data = data.drop(data.loc[data.price_usd_per_m2 > 10000].index)\n",
    "\n",
    "plt.figure(figsize=(15,12))\n",
    "sns.boxplot(data=data, x=\"price_usd_per_m2\", y=\"property_type\", orient=\"h\")\n",
    "plt.show()"
   ]
  },
  {
   "cell_type": "code",
   "execution_count": null,
   "id": "0748701f",
   "metadata": {},
   "outputs": [],
   "source": [
    "data = data.drop(data.loc[(data.surface_total_in_m2>2000)].index)\n",
    "plt.figure(figsize=(15,12))\n",
    "sns.boxplot(data=data, x=\"surface_total_in_m2\", y=\"property_type\", orient=\"h\")\n",
    "plt.show()"
   ]
  },
  {
   "cell_type": "code",
   "execution_count": null,
   "id": "5540dfa7",
   "metadata": {},
   "outputs": [],
   "source": [
    "nulls2 = pd.DataFrame({'Columna':data.columns, 'Nulos':data.isnull().sum(),'No nulos':data.notnull().sum()})\n",
    "\n",
    "# plot a Stacked Bar Chart using matplotlib\n",
    "nulls2.plot(\n",
    "  x = 'Columna', \n",
    "  kind = 'barh', \n",
    "  stacked = True, \n",
    "  title = 'Nulos por columna', \n",
    "  mark_right = True)"
   ]
  },
  {
   "cell_type": "code",
   "execution_count": null,
   "id": "463fe73d",
   "metadata": {},
   "outputs": [],
   "source": [
    "df_tipo_prop = data.groupby('property_type').mean()['price_aprox_usd'].sort_values(ascending=False)[0:5]\n",
    "graf = df_tipo_prop.sort_values().plot.barh(figsize=(14,5),fontsize=15, color='r')\n",
    "graf.set_title(\"Precio promedio segun el tipo de propiedad\", fontsize=10)\n",
    "graf.set_ylabel(\"Tipo de propiedad\", fontsize=18)\n",
    "graf.set_xlabel(\"U$S\", fontsize=18)\n",
    "plt.show()"
   ]
  },
  {
   "cell_type": "code",
   "execution_count": null,
   "id": "a9058c5f",
   "metadata": {},
   "outputs": [],
   "source": [
    "dfzone = data.groupby('place_name').mean()['price_usd_per_m2'].sort_values(ascending=False)[0:10]\n",
    "g = dfzone.sort_values().plot.barh(figsize=(14,5),color='b',fontsize=15, alpha=0.6);\n",
    "g.set_title(\"Precio(usd/m2) promedio según el barrio\", fontsize=20)\n",
    "g.set_ylabel(\"Barrio\", fontsize=18)\n",
    "g.set_xlabel(\"U$S/m2\", fontsize=18)\n",
    "plt.show()"
   ]
  },
  {
   "cell_type": "code",
   "execution_count": null,
   "id": "0121ec7a",
   "metadata": {},
   "outputs": [],
   "source": [
    "dfzone = data.groupby('place_name').mean()['price_usd_per_m2'].sort_values(ascending=True)[0:10]\n",
    "g = dfzone.sort_values().plot.barh(figsize=(14,5),color='b',fontsize=15, alpha=0.6);\n",
    "g.set_title(\"Precio(usd/m2) promedio según el barrio\", fontsize=20)\n",
    "g.set_ylabel(\"Barrio\", fontsize=18)\n",
    "g.set_xlabel(\"U$S/m2\", fontsize=18)\n",
    "plt.show()"
   ]
  },
  {
   "cell_type": "markdown",
   "id": "bc8451f6",
   "metadata": {},
   "source": [
    "---\n",
    "## Mapa de colores según precios"
   ]
  },
  {
   "cell_type": "code",
   "execution_count": null,
   "id": "fb291f53",
   "metadata": {},
   "outputs": [],
   "source": [
    "#Creo un dataset reducido para agruparlo y calcular el valor medio por cada tipo de propiedad. Luego lo convierto en dataframe con unstack\n",
    "datos_reducidos_precios = data.loc[:,[\"property_type\",\"place_name_normalized\",\"price_usd_per_m2\"]].groupby(['place_name_normalized','property_type']).mean().unstack(1)\n",
    "\n",
    "#Convierto el index en una columna\n",
    "datos_reducidos_precios = datos_reducidos_precios.reset_index()\n",
    "#Bajo el multilevel\n",
    "datos_reducidos_precios.columns = [\"\".join(a) for a in datos_reducidos_precios.columns.to_flat_index()]\n",
    "#Renombro las columnas de precios\n",
    "datos_reducidos_precios.columns = ['Barrio', 'Precio promedio PH','Precio promedio departamento','Precio promedio casa','Precio promedio local']\n",
    "datos_reducidos_precios.head()"
   ]
  },
  {
   "cell_type": "code",
   "execution_count": null,
   "id": "ac9ff790",
   "metadata": {},
   "outputs": [],
   "source": [
    "#Hacemos un merge con nuestros datos\n",
    "capital_merge_precios = datos_reducidos_precios.merge(gcba, left_on=\"Barrio\", right_on=\"BARRIO\",how=\"left\")\n",
    "capital_merge_precios.head()"
   ]
  },
  {
   "cell_type": "code",
   "execution_count": null,
   "id": "3550ebd2",
   "metadata": {},
   "outputs": [],
   "source": [
    "#Armamos los polígonos para plotly\n",
    "lista_polygonos=[ {'geometry': mapping(x.WKT),'id' : x.BARRIO } for i,x in capital_merge_precios.iterrows() ] "
   ]
  },
  {
   "cell_type": "code",
   "execution_count": null,
   "id": "56d85bb0",
   "metadata": {},
   "outputs": [],
   "source": [
    "geojson_capital= {'type': 'FeatureCollection' ,\n",
    "                  'features' : lista_polygonos }\n",
    "\n",
    "fig = make_subplots(\n",
    "    rows=2, cols=2,subplot_titles=['Precio promedio U$S PH','Precio promedio U$S Dpto','Precio promedio U$S Casas','Precio promedio U$S Locales'],\n",
    "    specs=[[{\"type\": \"choroplethmapbox\"}, {\"type\": \"choroplethmapbox\"}], [{\"type\": \"choroplethmapbox\"}, {\"type\": \"choroplethmapbox\"}]],\n",
    ")\n",
    "\n",
    "fig.add_trace(px.choropleth_mapbox(capital_merge_precios,\n",
    "                                  geojson=geojson_capital,\n",
    "                                  locations='Barrio', \n",
    "                                  color='Precio promedio PH',\n",
    "                                  opacity=0.5, height=500)['data'][0],\n",
    "                                  row=1, col=1)\n",
    "\n",
    "fig.add_trace(px.choropleth_mapbox(capital_merge_precios,\n",
    "                                  geojson=geojson_capital, \n",
    "                                  locations='Barrio', \n",
    "                                  color='Precio promedio departamento',\n",
    "                                  opacity=0.5, height=500,)['data'][0],\n",
    "                                  row=1, col=2)\n",
    "\n",
    "fig.add_trace(px.choropleth_mapbox(capital_merge_precios,\n",
    "                                  geojson=geojson_capital, \n",
    "                                  locations='Barrio', \n",
    "                                  color='Precio promedio casa',\n",
    "                                  opacity=0.5, height=500,)['data'][0],\n",
    "                                  row=2, col=1)\n",
    "\n",
    "fig.add_trace(px.choropleth_mapbox(capital_merge_precios,\n",
    "                                  geojson=geojson_capital, \n",
    "                                  locations='Barrio', \n",
    "                                  color='Precio promedio local',\n",
    "                                  opacity=0.5, height=500,)['data'][0],\n",
    "                                  row=2, col=2)\n",
    "\n",
    "fig.update_mapboxes(\n",
    "        center = {\"lat\": -34.615, \"lon\": -58.45},\n",
    "        zoom = 10,\n",
    "        style='carto-positron',\n",
    " )\n",
    "\n",
    "fig.update_layout(\n",
    "    margin={\"r\":0,\"t\":20,\"l\":0,\"b\":0},\n",
    "    height=950\n",
    ")\n",
    "\n",
    "fig.show()"
   ]
  },
  {
   "cell_type": "code",
   "execution_count": null,
   "id": "8fe48dc9",
   "metadata": {},
   "outputs": [],
   "source": [
    "fig = px.choropleth_mapbox(capital_merge_precios, geojson=geojson_capital,\n",
    "                      locations='Barrio', \n",
    "                      color='Precio promedio PH',\n",
    "                      color_continuous_scale=\"OrRd\",\n",
    "                      range_color=(0, capital_merge_precios['Precio promedio PH'].max()),\n",
    "                      mapbox_style=\"carto-positron\",\n",
    "                      opacity=0.5,\n",
    "                      zoom=10.5,\n",
    "                    labels = {'Precio promedio PH':'Precio promedio PH en U$D'},\n",
    "                      center = {\"lat\": -34.61, \"lon\": -58.45})\n",
    "\n",
    "fig.update_layout(\n",
    "    margin={\"r\":0,\"t\":0,\"l\":0,\"b\":0})\n",
    "fig.show()"
   ]
  },
  {
   "cell_type": "code",
   "execution_count": null,
   "id": "0d4994ef",
   "metadata": {},
   "outputs": [],
   "source": [
    "fig = px.choropleth_mapbox(capital_merge_precios, geojson=geojson_capital,\n",
    "                      locations='Barrio', \n",
    "                      color='Precio promedio departamento',\n",
    "                      color_continuous_scale=\"OrRd\",\n",
    "                      range_color=(0, capital_merge_precios['Precio promedio departamento'].max()),\n",
    "                      mapbox_style=\"carto-positron\",\n",
    "                      opacity=0.5,\n",
    "                      zoom=10,\n",
    "                    labels = {'Precio promedio departamento':'Precio promedio departamento en U$D'},\n",
    "                      center = {\"lat\": -34.61, \"lon\": -58.45})\n",
    "fig.update_layout(\n",
    "    margin={\"r\":0,\"t\":0,\"l\":0,\"b\":0})\n",
    "fig.show()"
   ]
  },
  {
   "cell_type": "markdown",
   "id": "90f406b5",
   "metadata": {},
   "source": [
    "---\n",
    "## Mapa de colores según cantidad de propiedad"
   ]
  },
  {
   "cell_type": "code",
   "execution_count": null,
   "id": "9b6843d2",
   "metadata": {},
   "outputs": [],
   "source": [
    "#Creo un dataset reducido para agruparlo y calcular la cantidad por cada tipo de propiedad. Luego lo convierto en dataframe con unstack\n",
    "datos_reducidos_propiedades = data.loc[:,[\"place_name_normalized\",\"property_type\"]].groupby([\"place_name_normalized\",\"property_type\"]).size().unstack(1)\n",
    "\n",
    "#Convierto el index en una columna\n",
    "datos_reducidos_propiedades = datos_reducidos_propiedades.reset_index()\n",
    "#Bajo el multilevel\n",
    "datos_reducidos_propiedades.columns = [\"\".join(a) for a in datos_reducidos_propiedades.columns.to_flat_index()]\n",
    "\n",
    "#Hacemos un merge con nuestros datos\n",
    "capital_merge_propiedades = datos_reducidos_propiedades.merge(gcba, left_on=\"place_name_normalized\", right_on=\"BARRIO\",how=\"left\")\n",
    "capital_merge_propiedades.head()"
   ]
  },
  {
   "cell_type": "code",
   "execution_count": null,
   "id": "a31a616c",
   "metadata": {},
   "outputs": [],
   "source": [
    "geojson_capital= {'type': 'FeatureCollection' ,\n",
    "                  'features' : lista_polygonos }\n",
    "\n",
    "fig = make_subplots(\n",
    "    rows=2, cols=2,subplot_titles=['Cantidad de PH','Cantidad de Departamentos','Cantidad de Casas','Cantidad de Locales'],\n",
    "    specs=[[{\"type\": \"choroplethmapbox\"}, {\"type\": \"choroplethmapbox\"}], [{\"type\": \"choroplethmapbox\"}, {\"type\": \"choroplethmapbox\"}]],\n",
    ")\n",
    "\n",
    "fig.add_trace(px.choropleth_mapbox(capital_merge_propiedades,\n",
    "                                  geojson=geojson_capital,\n",
    "                                  locations='BARRIO', \n",
    "                                  color='PH',\n",
    "                                  opacity=0.5, height=500)['data'][0],\n",
    "                                  row=1, col=1)\n",
    "\n",
    "fig.add_trace(px.choropleth_mapbox(capital_merge_propiedades,\n",
    "                                  geojson=geojson_capital, \n",
    "                                  locations='BARRIO', \n",
    "                                  color='apartment',\n",
    "                                  opacity=0.5, height=500,)['data'][0],\n",
    "                                  row=1, col=2)\n",
    "\n",
    "fig.add_trace(px.choropleth_mapbox(capital_merge_propiedades,\n",
    "                                  geojson=geojson_capital, \n",
    "                                  locations='BARRIO', \n",
    "                                  color='house',\n",
    "                                  opacity=0.5, height=500,)['data'][0],\n",
    "                                  row=2, col=1)\n",
    "\n",
    "fig.add_trace(px.choropleth_mapbox(capital_merge_propiedades,\n",
    "                                  geojson=geojson_capital, \n",
    "                                  locations='BARRIO', \n",
    "                                  color='store',\n",
    "                                  opacity=0.5, height=500,)['data'][0],\n",
    "                                  row=2, col=2)\n",
    "\n",
    "fig.update_mapboxes(\n",
    "        center = {\"lat\": -34.615, \"lon\": -58.45},\n",
    "        zoom = 10,\n",
    "        style='carto-positron',\n",
    " )\n",
    "\n",
    "fig.update_layout(\n",
    "    margin={\"r\":0,\"t\":20,\"l\":0,\"b\":0},\n",
    "    height=950\n",
    ")\n",
    "\n",
    "fig.show()"
   ]
  },
  {
   "cell_type": "code",
   "execution_count": null,
   "id": "6ff765ad",
   "metadata": {},
   "outputs": [],
   "source": [
    "fig = px.choropleth_mapbox(capital_merge_propiedades, geojson=geojson_capital,\n",
    "                      locations='BARRIO', \n",
    "                      color='PH',\n",
    "                      color_continuous_scale=\"OrRd\",\n",
    "                      range_color=(0, capital_merge_propiedades['PH'].max()),\n",
    "                      mapbox_style=\"carto-positron\",\n",
    "                      opacity=0.5,\n",
    "                      zoom=10.5,\n",
    "                    labels = {'PH':'Cantidad de PH'},\n",
    "                      center = {\"lat\": -34.61, \"lon\": -58.45})\n",
    "\n",
    "fig.update_layout(\n",
    "    margin={\"r\":0,\"t\":0,\"l\":0,\"b\":0})\n",
    "fig.show()"
   ]
  },
  {
   "cell_type": "code",
   "execution_count": null,
   "id": "d3a870c7",
   "metadata": {},
   "outputs": [],
   "source": []
  }
 ],
 "metadata": {
  "kernelspec": {
   "display_name": "Python [conda env:dsdh22_test] *",
   "language": "python",
   "name": "conda-env-dsdh22_test-py"
  },
  "language_info": {
   "codemirror_mode": {
    "name": "ipython",
    "version": 3
   },
   "file_extension": ".py",
   "mimetype": "text/x-python",
   "name": "python",
   "nbconvert_exporter": "python",
   "pygments_lexer": "ipython3",
   "version": "3.8.13"
  }
 },
 "nbformat": 4,
 "nbformat_minor": 5
}
