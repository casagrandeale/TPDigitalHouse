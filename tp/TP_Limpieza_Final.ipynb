{
 "cells": [
  {
   "cell_type": "code",
   "execution_count": 55,
   "id": "a167e55c",
   "metadata": {},
   "outputs": [
    {
     "data": {
      "text/html": [
       "<div>\n",
       "<style scoped>\n",
       "    .dataframe tbody tr th:only-of-type {\n",
       "        vertical-align: middle;\n",
       "    }\n",
       "\n",
       "    .dataframe tbody tr th {\n",
       "        vertical-align: top;\n",
       "    }\n",
       "\n",
       "    .dataframe thead th {\n",
       "        text-align: right;\n",
       "    }\n",
       "</style>\n",
       "<table border=\"1\" class=\"dataframe\">\n",
       "  <thead>\n",
       "    <tr style=\"text-align: right;\">\n",
       "      <th></th>\n",
       "      <th>Unnamed: 0</th>\n",
       "      <th>operation</th>\n",
       "      <th>property_type</th>\n",
       "      <th>place_name</th>\n",
       "      <th>place_with_parent_names</th>\n",
       "      <th>country_name</th>\n",
       "      <th>state_name</th>\n",
       "      <th>geonames_id</th>\n",
       "      <th>lat-lon</th>\n",
       "      <th>lat</th>\n",
       "      <th>...</th>\n",
       "      <th>surface_covered_in_m2</th>\n",
       "      <th>price_usd_per_m2</th>\n",
       "      <th>price_per_m2</th>\n",
       "      <th>floor</th>\n",
       "      <th>rooms</th>\n",
       "      <th>expenses</th>\n",
       "      <th>properati_url</th>\n",
       "      <th>description</th>\n",
       "      <th>title</th>\n",
       "      <th>image_thumbnail</th>\n",
       "    </tr>\n",
       "  </thead>\n",
       "  <tbody>\n",
       "    <tr>\n",
       "      <th>0</th>\n",
       "      <td>0</td>\n",
       "      <td>sell</td>\n",
       "      <td>PH</td>\n",
       "      <td>Mataderos</td>\n",
       "      <td>|Argentina|Capital Federal|Mataderos|</td>\n",
       "      <td>Argentina</td>\n",
       "      <td>Capital Federal</td>\n",
       "      <td>3430787.00</td>\n",
       "      <td>-34.6618237,-58.5088387</td>\n",
       "      <td>-34.66</td>\n",
       "      <td>...</td>\n",
       "      <td>40.00</td>\n",
       "      <td>1127.27</td>\n",
       "      <td>1550.00</td>\n",
       "      <td>nan</td>\n",
       "      <td>nan</td>\n",
       "      <td>nan</td>\n",
       "      <td>http://www.properati.com.ar/15bo8_venta_ph_mat...</td>\n",
       "      <td>2 AMBIENTES TIPO CASA PLANTA BAJA POR PASILLO,...</td>\n",
       "      <td>2 AMB TIPO CASA SIN EXPENSAS EN PB</td>\n",
       "      <td>https://thumbs4.properati.com/8/BluUYiHJLhgIIK...</td>\n",
       "    </tr>\n",
       "    <tr>\n",
       "      <th>1</th>\n",
       "      <td>1</td>\n",
       "      <td>sell</td>\n",
       "      <td>apartment</td>\n",
       "      <td>La Plata</td>\n",
       "      <td>|Argentina|Bs.As. G.B.A. Zona Sur|La Plata|</td>\n",
       "      <td>Argentina</td>\n",
       "      <td>Bs.As. G.B.A. Zona Sur</td>\n",
       "      <td>3432039.00</td>\n",
       "      <td>-34.9038831,-57.9643295</td>\n",
       "      <td>-34.90</td>\n",
       "      <td>...</td>\n",
       "      <td>nan</td>\n",
       "      <td>nan</td>\n",
       "      <td>nan</td>\n",
       "      <td>nan</td>\n",
       "      <td>nan</td>\n",
       "      <td>nan</td>\n",
       "      <td>http://www.properati.com.ar/15bob_venta_depart...</td>\n",
       "      <td>Venta de departamento en décimo piso al frente...</td>\n",
       "      <td>VENTA Depto 2 dorm. a estrenar 7 e/ 36 y 37   ...</td>\n",
       "      <td>https://thumbs4.properati.com/7/ikpVBu2ztHA7jv...</td>\n",
       "    </tr>\n",
       "    <tr>\n",
       "      <th>2</th>\n",
       "      <td>2</td>\n",
       "      <td>sell</td>\n",
       "      <td>apartment</td>\n",
       "      <td>Mataderos</td>\n",
       "      <td>|Argentina|Capital Federal|Mataderos|</td>\n",
       "      <td>Argentina</td>\n",
       "      <td>Capital Federal</td>\n",
       "      <td>3430787.00</td>\n",
       "      <td>-34.6522615,-58.5229825</td>\n",
       "      <td>-34.65</td>\n",
       "      <td>...</td>\n",
       "      <td>55.00</td>\n",
       "      <td>1309.09</td>\n",
       "      <td>1309.09</td>\n",
       "      <td>nan</td>\n",
       "      <td>nan</td>\n",
       "      <td>nan</td>\n",
       "      <td>http://www.properati.com.ar/15bod_venta_depart...</td>\n",
       "      <td>2 AMBIENTES 3ER PISO LATERAL LIVING COMEDOR AM...</td>\n",
       "      <td>2 AMB 3ER PISO CON ASCENSOR APTO CREDITO</td>\n",
       "      <td>https://thumbs4.properati.com/5/SXKr34F_IwG3W_...</td>\n",
       "    </tr>\n",
       "    <tr>\n",
       "      <th>3</th>\n",
       "      <td>3</td>\n",
       "      <td>sell</td>\n",
       "      <td>PH</td>\n",
       "      <td>Liniers</td>\n",
       "      <td>|Argentina|Capital Federal|Liniers|</td>\n",
       "      <td>Argentina</td>\n",
       "      <td>Capital Federal</td>\n",
       "      <td>3431333.00</td>\n",
       "      <td>-34.6477969,-58.5164244</td>\n",
       "      <td>-34.65</td>\n",
       "      <td>...</td>\n",
       "      <td>nan</td>\n",
       "      <td>nan</td>\n",
       "      <td>nan</td>\n",
       "      <td>nan</td>\n",
       "      <td>nan</td>\n",
       "      <td>nan</td>\n",
       "      <td>http://www.properati.com.ar/15boh_venta_ph_lin...</td>\n",
       "      <td>PH 3 ambientes con patio. Hay 3 deptos en lote...</td>\n",
       "      <td>PH 3 amb. cfte. reciclado</td>\n",
       "      <td>https://thumbs4.properati.com/3/DgIfX-85Mog5SP...</td>\n",
       "    </tr>\n",
       "    <tr>\n",
       "      <th>4</th>\n",
       "      <td>4</td>\n",
       "      <td>sell</td>\n",
       "      <td>apartment</td>\n",
       "      <td>Centro</td>\n",
       "      <td>|Argentina|Buenos Aires Costa Atlántica|Mar de...</td>\n",
       "      <td>Argentina</td>\n",
       "      <td>Buenos Aires Costa Atlántica</td>\n",
       "      <td>3435548.00</td>\n",
       "      <td>-38.0026256,-57.5494468</td>\n",
       "      <td>-38.00</td>\n",
       "      <td>...</td>\n",
       "      <td>35.00</td>\n",
       "      <td>1828.57</td>\n",
       "      <td>1828.57</td>\n",
       "      <td>nan</td>\n",
       "      <td>nan</td>\n",
       "      <td>nan</td>\n",
       "      <td>http://www.properati.com.ar/15bok_venta_depart...</td>\n",
       "      <td>DEPARTAMENTO CON FANTÁSTICA ILUMINACIÓN NATURA...</td>\n",
       "      <td>DEPTO 2 AMB AL CONTRAFRENTE ZONA CENTRO/PLAZA ...</td>\n",
       "      <td>https://thumbs4.properati.com/5/xrRqlNcSI_vs-f...</td>\n",
       "    </tr>\n",
       "  </tbody>\n",
       "</table>\n",
       "<p>5 rows × 26 columns</p>\n",
       "</div>"
      ],
      "text/plain": [
       "   Unnamed: 0 operation property_type place_name  \\\n",
       "0           0      sell            PH  Mataderos   \n",
       "1           1      sell     apartment   La Plata   \n",
       "2           2      sell     apartment  Mataderos   \n",
       "3           3      sell            PH    Liniers   \n",
       "4           4      sell     apartment     Centro   \n",
       "\n",
       "                             place_with_parent_names country_name  \\\n",
       "0              |Argentina|Capital Federal|Mataderos|    Argentina   \n",
       "1        |Argentina|Bs.As. G.B.A. Zona Sur|La Plata|    Argentina   \n",
       "2              |Argentina|Capital Federal|Mataderos|    Argentina   \n",
       "3                |Argentina|Capital Federal|Liniers|    Argentina   \n",
       "4  |Argentina|Buenos Aires Costa Atlántica|Mar de...    Argentina   \n",
       "\n",
       "                     state_name  geonames_id                  lat-lon    lat  \\\n",
       "0               Capital Federal   3430787.00  -34.6618237,-58.5088387 -34.66   \n",
       "1        Bs.As. G.B.A. Zona Sur   3432039.00  -34.9038831,-57.9643295 -34.90   \n",
       "2               Capital Federal   3430787.00  -34.6522615,-58.5229825 -34.65   \n",
       "3               Capital Federal   3431333.00  -34.6477969,-58.5164244 -34.65   \n",
       "4  Buenos Aires Costa Atlántica   3435548.00  -38.0026256,-57.5494468 -38.00   \n",
       "\n",
       "   ...  surface_covered_in_m2  price_usd_per_m2 price_per_m2  floor  rooms  \\\n",
       "0  ...                  40.00           1127.27      1550.00    nan    nan   \n",
       "1  ...                    nan               nan          nan    nan    nan   \n",
       "2  ...                  55.00           1309.09      1309.09    nan    nan   \n",
       "3  ...                    nan               nan          nan    nan    nan   \n",
       "4  ...                  35.00           1828.57      1828.57    nan    nan   \n",
       "\n",
       "   expenses                                      properati_url  \\\n",
       "0       nan  http://www.properati.com.ar/15bo8_venta_ph_mat...   \n",
       "1       nan  http://www.properati.com.ar/15bob_venta_depart...   \n",
       "2       nan  http://www.properati.com.ar/15bod_venta_depart...   \n",
       "3       nan  http://www.properati.com.ar/15boh_venta_ph_lin...   \n",
       "4       nan  http://www.properati.com.ar/15bok_venta_depart...   \n",
       "\n",
       "                                         description  \\\n",
       "0  2 AMBIENTES TIPO CASA PLANTA BAJA POR PASILLO,...   \n",
       "1  Venta de departamento en décimo piso al frente...   \n",
       "2  2 AMBIENTES 3ER PISO LATERAL LIVING COMEDOR AM...   \n",
       "3  PH 3 ambientes con patio. Hay 3 deptos en lote...   \n",
       "4  DEPARTAMENTO CON FANTÁSTICA ILUMINACIÓN NATURA...   \n",
       "\n",
       "                                               title  \\\n",
       "0                 2 AMB TIPO CASA SIN EXPENSAS EN PB   \n",
       "1  VENTA Depto 2 dorm. a estrenar 7 e/ 36 y 37   ...   \n",
       "2           2 AMB 3ER PISO CON ASCENSOR APTO CREDITO   \n",
       "3                       PH 3 amb. cfte. reciclado      \n",
       "4  DEPTO 2 AMB AL CONTRAFRENTE ZONA CENTRO/PLAZA ...   \n",
       "\n",
       "                                     image_thumbnail  \n",
       "0  https://thumbs4.properati.com/8/BluUYiHJLhgIIK...  \n",
       "1  https://thumbs4.properati.com/7/ikpVBu2ztHA7jv...  \n",
       "2  https://thumbs4.properati.com/5/SXKr34F_IwG3W_...  \n",
       "3  https://thumbs4.properati.com/3/DgIfX-85Mog5SP...  \n",
       "4  https://thumbs4.properati.com/5/xrRqlNcSI_vs-f...  \n",
       "\n",
       "[5 rows x 26 columns]"
      ]
     },
     "execution_count": 55,
     "metadata": {},
     "output_type": "execute_result"
    }
   ],
   "source": [
    "import pandas as pd\n",
    "import numpy as np\n",
    "import re\n",
    "\n",
    "data = pd.read_csv('data/properatti.csv')\n",
    "data.head(5)"
   ]
  },
  {
   "cell_type": "code",
   "execution_count": 56,
   "id": "590ea86b",
   "metadata": {},
   "outputs": [
    {
     "data": {
      "text/plain": [
       "Unnamed: 0                                                                   10\n",
       "operation                                                                  sell\n",
       "property_type                                                             house\n",
       "place_name                                                              Córdoba\n",
       "place_with_parent_names                             |Argentina|Córdoba|Córdoba|\n",
       "country_name                                                          Argentina\n",
       "state_name                                                              Córdoba\n",
       "geonames_id                                                          3860259.00\n",
       "lat-lon                                                 -31.4200833,-64.1887761\n",
       "lat                                                                      -31.42\n",
       "lon                                                                      -64.19\n",
       "price                                                                  70000.00\n",
       "currency                                                                    USD\n",
       "price_aprox_local_currency                                           1235115.00\n",
       "price_aprox_usd                                                        70000.00\n",
       "surface_total_in_m2                                                     1514.00\n",
       "surface_covered_in_m2                                                       NaN\n",
       "price_usd_per_m2                                                          46.24\n",
       "price_per_m2                                                                NaN\n",
       "floor                                                                       NaN\n",
       "rooms                                                                       NaN\n",
       "expenses                                                                    NaN\n",
       "properati_url                 http://www.properati.com.ar/15boy_venta_casa_c...\n",
       "description                   Hermosa casa sin terminar de 3 dormitorios, ba...\n",
       "title                         Casa sin terminar en Falda de Cañete.         ...\n",
       "image_thumbnail               https://thumbs4.properati.com/3/mQkhIxXpTTbMSc...\n",
       "Name: 10, dtype: object"
      ]
     },
     "execution_count": 56,
     "metadata": {},
     "output_type": "execute_result"
    }
   ],
   "source": [
    "''' Vemos las columnas '''\n",
    "\n",
    "data.loc[10,:]"
   ]
  },
  {
   "cell_type": "code",
   "execution_count": 57,
   "id": "9550c05e",
   "metadata": {},
   "outputs": [
    {
     "data": {
      "text/plain": [
       "USD    87587\n",
       "ARS    13219\n",
       "PEN        2\n",
       "UYU        1\n",
       "Name: currency, dtype: int64"
      ]
     },
     "execution_count": 57,
     "metadata": {},
     "output_type": "execute_result"
    }
   ],
   "source": [
    "''' revisamos en que moneda se encuentran expresadas las propiedades'''\n",
    "data.currency.value_counts()"
   ]
  },
  {
   "cell_type": "code",
   "execution_count": 58,
   "id": "a027fa4b",
   "metadata": {},
   "outputs": [
    {
     "data": {
      "text/plain": [
       "20410"
      ]
     },
     "execution_count": 58,
     "metadata": {},
     "output_type": "execute_result"
    }
   ],
   "source": [
    "''' de las columnas precios vamos a analizar price_aprox_usd para tomarla como referencia'''\n",
    "''' vemos los nulos '''\n",
    "\n",
    "data['price_aprox_usd'].isna().sum()"
   ]
  },
  {
   "cell_type": "code",
   "execution_count": 59,
   "id": "336da17b",
   "metadata": {},
   "outputs": [
    {
     "data": {
      "text/plain": [
       "price                         20410\n",
       "price_aprox_local_currency    20410\n",
       "price_usd_per_m2              20410\n",
       "price_per_m2                  20410\n",
       "dtype: int64"
      ]
     },
     "execution_count": 59,
     "metadata": {},
     "output_type": "execute_result"
    }
   ],
   "source": [
    "''' Exploramos las columnas de los precios para ver si hay datos no nulos'''\n",
    "\n",
    "pricenull = data.loc[data['price_aprox_usd'].isna()].loc[:,['price','price_aprox_local_currency','price_usd_per_m2','price_per_m2']]\n",
    "\n",
    "pricenull.isna().sum()\n",
    "\n"
   ]
  },
  {
   "cell_type": "code",
   "execution_count": 60,
   "id": "dfe421bb",
   "metadata": {},
   "outputs": [
    {
     "name": "stdout",
     "output_type": "stream",
     "text": [
      "0\n"
     ]
    }
   ],
   "source": [
    "''' quitar los nulos precios '''\n",
    "\n",
    "data = data.drop(data[data['price_aprox_usd'].isna()].index)\n",
    "cant_nulls = data.price_aprox_usd.isnull().sum()\n",
    "print(cant_nulls)"
   ]
  },
  {
   "cell_type": "code",
   "execution_count": 61,
   "id": "62bd1bb9",
   "metadata": {},
   "outputs": [
    {
     "data": {
      "text/plain": [
       "23"
      ]
     },
     "execution_count": 61,
     "metadata": {},
     "output_type": "execute_result"
    }
   ],
   "source": [
    "#Veo cuántos nulos tiene la columna place_name\n",
    "data.place_name.isnull().sum()"
   ]
  },
  {
   "cell_type": "code",
   "execution_count": 62,
   "id": "2d70ab80",
   "metadata": {},
   "outputs": [
    {
     "data": {
      "text/plain": [
       "0"
      ]
     },
     "execution_count": 62,
     "metadata": {},
     "output_type": "execute_result"
    }
   ],
   "source": [
    "''' completar los places names '''\n",
    "data.loc[data.place_name.isnull(),'place_name'] = data.loc[data.place_name.isnull()].place_with_parent_names.str.split('|', expand=True)[3]\n",
    "\n",
    "'''place names nulls despues de completar'''\n",
    "\n",
    "data.place_name.isnull().sum()"
   ]
  },
  {
   "cell_type": "code",
   "execution_count": 63,
   "id": "da3e8537",
   "metadata": {},
   "outputs": [],
   "source": [
    "#Relleno manualmente un dato que está suelto\n",
    "mask=(data.place_name=='coordenadas 34.255511')\n",
    "data.loc[mask,'place_name'] = 'Rincón de Milberg'\n"
   ]
  },
  {
   "cell_type": "code",
   "execution_count": 64,
   "id": "3c03d409",
   "metadata": {},
   "outputs": [
    {
     "data": {
      "text/plain": [
       "61231"
      ]
     },
     "execution_count": 64,
     "metadata": {},
     "output_type": "execute_result"
    }
   ],
   "source": [
    "''' columna ambientes'''\n",
    "data.rooms.isna().sum()"
   ]
  },
  {
   "cell_type": "code",
   "execution_count": 65,
   "id": "696d1eee",
   "metadata": {},
   "outputs": [
    {
     "data": {
      "text/plain": [
       "19604"
      ]
     },
     "execution_count": 65,
     "metadata": {},
     "output_type": "execute_result"
    }
   ],
   "source": [
    "#Relleno con patron regex segun la palabra ambiente\n",
    "patron = '((?P<numero>\\d|mono|dos|tres|cuatro|cinco|seis)\\s*(?P<ambiente>amb))'\n",
    "patron_regex = re.compile(patron,flags = re.IGNORECASE)\n",
    "\n",
    "def convertRoom(row):\n",
    "    try:\n",
    "        if (row['description'] and isinstance(row['description'],str)):\n",
    "            resultado = patron_regex.search(row['description'])\n",
    "        if ((resultado is None) and row['title'] and isinstance(row['title'],str)):\n",
    "            resultado = patron_regex.search(row['title'])\n",
    "        return resultado.group('numero')\n",
    "    except:\n",
    "        return np.nan\n",
    "        \n",
    "data.loc[data.rooms.isnull(),'rooms'] = data.loc[data.rooms.isnull()].apply(convertRoom,axis=1)\n",
    "\n",
    "patron_ambientes = re.compile(\"(?P<Ambientes>\\d+)(?P<tipo>amb|\\samb)\",flags = re.IGNORECASE)\n",
    "patron_habitaciones = re.compile(\"(?P<Habitaciones>\\d+)(?P<tipo>hab|\\shab|dorm|\\sdorm)\",flags = re.IGNORECASE)\n",
    "\n",
    "def extractRooms(row):\n",
    "    ambientes_match = None\n",
    "    if ( row['description'] and isinstance(row['description'],str) ):\n",
    "        ambientes_match = patron_ambientes.search(row['description'])\n",
    "    if ((ambientes_match is None) and row['title'] and isinstance(row['title'],str)):\n",
    "        ambientes_match = patron_ambientes.search(row['title'])\n",
    "    if (ambientes_match is not None):\n",
    "        return int(ambientes_match.groups()[0]) \n",
    "    else: \n",
    "        if (row['description'] and isinstance(row['description'],str)):\n",
    "            ambientes_match = patron_habitaciones.search(row['description'])\n",
    "        if ((ambientes_match is None) and row['title'] and isinstance(row['title'],str)):\n",
    "            ambientes_match = patron_habitaciones.search(row['title'])\n",
    "        if (ambientes_match is not None):\n",
    "            return int(ambientes_match.groups()[0])+1\n",
    "        return None\n",
    "        \n",
    "        \n",
    "data.loc[data.rooms.isnull(),'rooms'] = data.loc[data.rooms.isnull()].apply(extractRooms,axis=1)\n",
    "\n",
    "''' rooms despues de limpiar'''\n",
    "\n",
    "data.rooms.isnull().sum()\n"
   ]
  },
  {
   "cell_type": "code",
   "execution_count": 66,
   "id": "614f64f6",
   "metadata": {},
   "outputs": [
    {
     "data": {
      "text/plain": [
       "31944"
      ]
     },
     "execution_count": 66,
     "metadata": {},
     "output_type": "execute_result"
    }
   ],
   "source": [
    "''' nulos en superficie'''\n",
    "\n",
    "data.surface_total_in_m2.isnull().sum()"
   ]
  },
  {
   "cell_type": "code",
   "execution_count": 67,
   "id": "ed6ab76b",
   "metadata": {},
   "outputs": [],
   "source": [
    "\n",
    "patron_meters = re.compile(\"(?P<Metros>\\d+)(?P<tipo>metro|\\smetro|mts|\\smts|m2|\\sm2)\",flags = re.IGNORECASE)\n",
    "\n",
    "\n",
    "def extractMeters(row):\n",
    "    meters_match = None\n",
    "    if ( row['description'] and isinstance(row['description'],str) ):\n",
    "        meters_match = patron_meters.search(row['description'])\n",
    "    if ((meters_match is None) and row['title'] and isinstance(row['title'],str)):\n",
    "        meters_match = patron_meters.search(row['title'])\n",
    "    if (meters_match is not None):\n",
    "        return meters_match.groups()[0]\n",
    "    return None\n",
    "\n",
    "data.loc[data.surface_total_in_m2.isnull(),'surface_total_in_m2'] = data.loc[data.surface_total_in_m2.isnull()].apply(extractMeters,axis=1)\n",
    "\n",
    "data.loc[data.surface_total_in_m2.isnull() & data.surface_covered_in_m2.notnull(),'surface_total_in_m2'] = data.loc[data.surface_total_in_m2.isnull() & data.surface_covered_in_m2.notnull()].apply(lambda x: x['surface_covered_in_m2'],axis=1)\n",
    "\n",
    "\n"
   ]
  },
  {
   "cell_type": "code",
   "execution_count": 68,
   "id": "0629f211",
   "metadata": {},
   "outputs": [
    {
     "data": {
      "text/plain": [
       "5892"
      ]
     },
     "execution_count": 68,
     "metadata": {},
     "output_type": "execute_result"
    }
   ],
   "source": [
    "data.loc[data.surface_total_in_m2.isnull(),'surface_total_in_m2'] = data.loc[data.surface_total_in_m2.isnull()].surface_total_in_m2.fillna(value=np.nan)\n",
    "data.loc[:,'surface_total_in_m2'] = data.loc[:,'surface_total_in_m2'].astype(\"float\")\n",
    "\n",
    "''' cuantos quedaron'''\n",
    "\n",
    "data.surface_total_in_m2.isnull().sum()"
   ]
  },
  {
   "cell_type": "markdown",
   "id": "79ab9f54",
   "metadata": {},
   "source": [
    "Generamos columnas para categorizar los departamentos, al frente, contrafrente, lateral\n"
   ]
  },
  {
   "cell_type": "code",
   "execution_count": 69,
   "id": "2200d43c",
   "metadata": {},
   "outputs": [
    {
     "data": {
      "text/plain": [
       "frente          28536\n",
       "contrafrente     5262\n",
       "lateral          1811\n",
       "Name: disposicion, dtype: int64"
      ]
     },
     "execution_count": 69,
     "metadata": {},
     "output_type": "execute_result"
    }
   ],
   "source": [
    "''' columna disposicion del dpto'''\n",
    "\n",
    "patron_disposicion = re.compile(\"(?P<tipo>frente|lateral|contrafrente)\",flags = re.IGNORECASE)\n",
    "\n",
    "def disposicion(row):\n",
    "    disposicion_match = None\n",
    "    if ( row['description'] and isinstance(row['description'],str) ): \n",
    "        disposicion_match = patron_disposicion.search(row['description'])\n",
    "    if ((patron_disposicion is None) and row['title'] and isinstance(row['title'],str)):\n",
    "        disposicion_match = patron_disposicion.search(row['title'])\n",
    "    if (disposicion_match is not None):\n",
    "        return disposicion_match.groups()[0].lower()\n",
    "    return None  \n",
    "\n",
    "data['disposicion'] =  data.apply(lambda x:disposicion(x),axis = 1)\n",
    "data['disposicion'].value_counts()"
   ]
  },
  {
   "cell_type": "code",
   "execution_count": 70,
   "id": "ef47cb8a",
   "metadata": {},
   "outputs": [
    {
     "data": {
      "text/plain": [
       "53700"
      ]
     },
     "execution_count": 70,
     "metadata": {},
     "output_type": "execute_result"
    }
   ],
   "source": [
    "''' cuantos departamentos tienen el piso en null '''\n",
    "len(data.loc[(data.property_type == 'apartment') & (data.floor.isnull())].index)"
   ]
  },
  {
   "cell_type": "code",
   "execution_count": 71,
   "id": "e17afbda",
   "metadata": {},
   "outputs": [
    {
     "data": {
      "text/plain": [
       "53413"
      ]
     },
     "execution_count": 71,
     "metadata": {},
     "output_type": "execute_result"
    }
   ],
   "source": [
    "patron_floor = re.compile(\"(?P<piso0>planta baja|PB)|(?P<piso1>1er piso|primer piso|piso 1|1º piso|piso 1º)|(?P<piso2>2do piso|segundo piso|piso 2|2º piso|piso 2º)|(?P<piso3>3er piso|tercer piso|piso 3|3º piso|piso 3º)|(?P<piso4>4to piso|cuarto piso|piso 4|4º piso|piso 4º)|(?P<piso5>5to piso|quinto piso|piso 5|5º piso|piso 5º)|(?P<piso6>6to piso|sexto piso|piso 6|6º piso|piso 6º)|(?P<piso7>7to piso|séptimo piso|piso 7|7º piso|piso 7º)|(?P<piso8>8vo piso|octavo piso|piso 8|8º piso|piso 8º)|(?P<piso9>9no piso|noveno piso|piso 9|9º piso|piso 9º)|(?P<piso10>10mo piso|décimo piso|piso 10|10º piso|piso 10º)|(?P<piso11>11vo piso|onceavo piso|piso 11|11º piso|piso 11º)|(?P<piso12>12vo piso|doceavo piso|piso 12|12º piso|piso 12º)|(?P<piso13>13vo piso|treceavo piso|piso 13|13º piso|piso 13º)|(?P<piso14>14vo piso|cartoceavo piso|piso 14|14º piso|piso 14º)|(?P<piso15>15vo piso|quinceavo piso|piso 15|15º piso|piso 15º)\",flags = re.IGNORECASE)\n",
    "\n",
    "def extractFloor(row):\n",
    "    match = None\n",
    "    if (row['description'] and isinstance(row['description'],str) ):\n",
    "        match = patron_floor.match(row['description'])\n",
    "    if ( (match is None) and row['title'] and isinstance(row['title'],str) ):\n",
    "        match = patron_floor.match(row['title'])\n",
    "    if (match is not None):    \n",
    "        return int(match.lastgroup.replace('piso',''))               \n",
    "    return row['floor']\n",
    "\n",
    "data.loc[(data.property_type == 'apartment') & (data.floor.isnull()),'floor'] = data.loc[(data.property_type == 'apartment') & (data.floor.isnull())].apply(lambda x: extractFloor(x),axis =1)\n",
    "\n",
    "''' cuantos departamentos tienen el piso en null '''\n",
    "len(data.loc[(data.property_type == 'apartment') & (data.floor.isnull())].index)"
   ]
  },
  {
   "cell_type": "code",
   "execution_count": 72,
   "id": "79050d03",
   "metadata": {},
   "outputs": [],
   "source": [
    "''' columna a estrenar '''\n",
    "patron_a_estrenar = re.compile(\"(?P<tipo>estrenar)\",flags = re.IGNORECASE)\n",
    "\n",
    "def aestrenar(row):\n",
    "    if ( row['description'] and isinstance(row['description'],str) ):\n",
    "        if (patron_a_estrenar.match(row['description'])):\n",
    "                return True\n",
    "    if ( row['title'] and isinstance(row['title'],str) ):\n",
    "        if (patron_a_estrenar.match(row['title'])):\n",
    "            return True\n",
    "    return False\n",
    "\n",
    "data['aAstrenar'] = data.apply(lambda x:aestrenar(x),axis = 1);\n",
    "\n"
   ]
  },
  {
   "cell_type": "code",
   "execution_count": 73,
   "id": "a1fc173f",
   "metadata": {},
   "outputs": [
    {
     "data": {
      "text/plain": [
       "False    100801\n",
       "True          9\n",
       "Name: aAstrenar, dtype: int64"
      ]
     },
     "execution_count": 73,
     "metadata": {},
     "output_type": "execute_result"
    }
   ],
   "source": [
    "data['aAstrenar'].value_counts()"
   ]
  },
  {
   "cell_type": "code",
   "execution_count": 74,
   "id": "d5ac1841",
   "metadata": {},
   "outputs": [
    {
     "data": {
      "text/plain": [
       "array(['Mataderos', 'Liniers', 'Belgrano', 'Palermo Soho', 'Palermo',\n",
       "       'Flores', 'Boedo', 'Las Cañitas', 'Puerto Madero', 'Balvanera',\n",
       "       'Caballito', 'Nuñez', 'San Telmo', 'Almagro', 'Capital Federal',\n",
       "       'Colegiales', 'Floresta', 'Barrio Norte', 'Barracas', 'Recoleta',\n",
       "       'Congreso', 'Villa Crespo', 'Chacarita', 'Constitución',\n",
       "       'Villa Urquiza', 'Palermo Hollywood', 'Saavedra', 'Monserrat',\n",
       "       'Pompeya', 'Parque Chas', 'Paternal', 'Agronomía',\n",
       "       'Villa Pueyrredón', 'Coghlan', 'Parque Centenario', 'Villa Luro',\n",
       "       'Villa Devoto', 'Boca', 'Parque Avellaneda', 'San Cristobal',\n",
       "       'Abasto', 'Versalles', 'Villa del Parque', 'Monte Castro',\n",
       "       'Retiro', 'Parque Patricios', 'San Nicolás', 'Villa Santa Rita',\n",
       "       'Palermo Chico', 'Centro / Microcentro', 'Tribunales', 'Once',\n",
       "       'Parque Chacabuco', 'Velez Sarsfield', 'Catalinas',\n",
       "       'Villa General Mitre', 'Palermo Viejo', 'Villa Lugano',\n",
       "       'Villa Ortuzar', 'Villa Soldati', 'Villa Real', 'Villa Riachuelo'],\n",
       "      dtype=object)"
      ]
     },
     "execution_count": 74,
     "metadata": {},
     "output_type": "execute_result"
    }
   ],
   "source": [
    "''' nos vamos a quedar con capital federal'''\n",
    "\n",
    "data = data.loc[(data.state_name == 'Capital Federal')]\n",
    "data.place_name.unique()"
   ]
  },
  {
   "cell_type": "code",
   "execution_count": 75,
   "id": "92fbf36f",
   "metadata": {},
   "outputs": [],
   "source": [
    "#1. Copio los barrios y los Palermos los convierto a Palermo\n",
    "data['place_name'] = data.place_name.apply(lambda x: \"Palermo\" if \"Palermo\" in x else x)"
   ]
  },
  {
   "cell_type": "code",
   "execution_count": 76,
   "id": "dd7d989e",
   "metadata": {},
   "outputs": [
    {
     "data": {
      "text/plain": [
       "array(['Mataderos', 'Liniers', 'Belgrano', 'Palermo', 'Flores', 'Boedo',\n",
       "       'Las Cañitas', 'Puerto Madero', 'Balvanera', 'Caballito', 'Nuñez',\n",
       "       'San Telmo', 'Almagro', 'Capital Federal', 'Colegiales',\n",
       "       'Floresta', 'Barrio Norte', 'Barracas', 'Recoleta', 'Congreso',\n",
       "       'Villa Crespo', 'Chacarita', 'Constitución', 'Villa Urquiza',\n",
       "       'Saavedra', 'Monserrat', 'Pompeya', 'Parque Chas', 'Paternal',\n",
       "       'Agronomía', 'Villa Pueyrredón', 'Coghlan', 'Parque Centenario',\n",
       "       'Villa Luro', 'Villa Devoto', 'Boca', 'Parque Avellaneda',\n",
       "       'San Cristobal', 'Abasto', 'Versalles', 'Villa del Parque',\n",
       "       'Monte Castro', 'Retiro', 'Parque Patricios', 'San Nicolás',\n",
       "       'Villa Santa Rita', 'Centro / Microcentro', 'Tribunales', 'Once',\n",
       "       'Parque Chacabuco', 'Velez Sarsfield', 'Catalinas',\n",
       "       'Villa General Mitre', 'Villa Lugano', 'Villa Ortuzar',\n",
       "       'Villa Soldati', 'Villa Real', 'Villa Riachuelo'], dtype=object)"
      ]
     },
     "execution_count": 76,
     "metadata": {},
     "output_type": "execute_result"
    }
   ],
   "source": [
    "data.place_name.unique()"
   ]
  },
  {
   "cell_type": "code",
   "execution_count": 77,
   "id": "52ad9cde",
   "metadata": {},
   "outputs": [
    {
     "data": {
      "text/plain": [
       "count     27324.00\n",
       "mean       6108.16\n",
       "std       23654.00\n",
       "min           3.21\n",
       "25%        2190.92\n",
       "50%        2777.42\n",
       "75%        3590.00\n",
       "max     2600000.00\n",
       "Name: price_per_m2, dtype: float64"
      ]
     },
     "execution_count": 77,
     "metadata": {},
     "output_type": "execute_result"
    }
   ],
   "source": [
    "''' empezamos a buscar outliers'''\n",
    "\n",
    "pd.options.display.float_format = '{:.2f}'.format\n",
    "\n",
    "data.price_per_m2.describe()"
   ]
  },
  {
   "cell_type": "code",
   "execution_count": 89,
   "id": "eac72c0a",
   "metadata": {},
   "outputs": [
    {
     "data": {
      "text/plain": [
       "count     27324.00\n",
       "mean       3726.80\n",
       "std       13646.64\n",
       "min           0.47\n",
       "25%        2152.11\n",
       "50%        2700.00\n",
       "75%        3391.98\n",
       "max     1050000.00\n",
       "Name: price_per_m2, dtype: float64"
      ]
     },
     "execution_count": 89,
     "metadata": {},
     "output_type": "execute_result"
    }
   ],
   "source": [
    "\n",
    "def price_m2(row):\n",
    "    if (row['surface_total_in_m2'] > 0):\n",
    "        return row['price_aprox_usd'] / row['surface_total_in_m2']\n",
    "    return row['price_per_m2']\n",
    "\n",
    "data.loc[data.price_per_m2 > 5000,'price_per_m2'] = data.loc[data.price_per_m2 > 5000].apply(lambda x:  price_m2(x),axis=1)\n",
    "data.price_per_m2.describe()"
   ]
  },
  {
   "cell_type": "code",
   "execution_count": 90,
   "id": "8385604f",
   "metadata": {},
   "outputs": [
    {
     "data": {
      "text/plain": [
       "count   26519.00\n",
       "mean     2845.73\n",
       "std      1137.52\n",
       "min         0.47\n",
       "25%      2131.80\n",
       "50%      2666.67\n",
       "75%      3306.29\n",
       "max     10000.00\n",
       "Name: price_per_m2, dtype: float64"
      ]
     },
     "execution_count": 90,
     "metadata": {},
     "output_type": "execute_result"
    }
   ],
   "source": [
    "data = data.drop(data.loc[data.price_per_m2 > 10000].index)\n",
    "data.price_per_m2.describe()"
   ]
  },
  {
   "cell_type": "code",
   "execution_count": null,
   "id": "c5626156",
   "metadata": {},
   "outputs": [],
   "source": []
  }
 ],
 "metadata": {
  "kernelspec": {
   "display_name": "Python [conda env:dhdsblend2021] *",
   "language": "python",
   "name": "conda-env-dhdsblend2021-py"
  },
  "language_info": {
   "codemirror_mode": {
    "name": "ipython",
    "version": 3
   },
   "file_extension": ".py",
   "mimetype": "text/x-python",
   "name": "python",
   "nbconvert_exporter": "python",
   "pygments_lexer": "ipython3",
   "version": "3.8.13"
  }
 },
 "nbformat": 4,
 "nbformat_minor": 5
}
